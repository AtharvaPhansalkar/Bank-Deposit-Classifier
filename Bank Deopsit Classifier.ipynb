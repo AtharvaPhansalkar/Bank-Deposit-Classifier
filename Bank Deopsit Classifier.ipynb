{
  "nbformat": 4,
  "nbformat_minor": 0,
  "metadata": {
    "colab": {
      "name": "Last Edit",
      "provenance": [],
      "collapsed_sections": [],
      "authorship_tag": "ABX9TyNO705efBA2Qpn6IEVWLH3G",
      "include_colab_link": true
    },
    "kernelspec": {
      "name": "python3",
      "display_name": "Python 3"
    }
  },
  "cells": [
    {
      "cell_type": "markdown",
      "metadata": {
        "id": "view-in-github",
        "colab_type": "text"
      },
      "source": [
        "<a href=\"https://colab.research.google.com/github/AtharvaPhansalkar/Bank-Deposit-Classifier/blob/master/Bank%20Deopsit%20Classifier.ipynb\" target=\"_parent\"><img src=\"https://colab.research.google.com/assets/colab-badge.svg\" alt=\"Open In Colab\"/></a>"
      ]
    },
    {
      "cell_type": "code",
      "metadata": {
        "id": "2lp0kwJbAi1s",
        "colab_type": "code",
        "colab": {}
      },
      "source": [
        "##THIS IS A PROJECT BASED ON MACHINE LEARNING WHICH PREDCITS IF SOMEONE WILL OPEN AN ACCOUNT FOR DEPOSIT AT A PORTUGUESE BANK. "
      ],
      "execution_count": null,
      "outputs": []
    },
    {
      "cell_type": "code",
      "metadata": {
        "id": "tzO_XJduAeLM",
        "colab_type": "code",
        "colab": {}
      },
      "source": [
        "  ##LOADING THE TWO DATSETS FOR OUR PROJECT"
      ],
      "execution_count": null,
      "outputs": []
    },
    {
      "cell_type": "code",
      "metadata": {
        "id": "yBt0KvfZ_HJB",
        "colab_type": "code",
        "colab": {
          "resources": {
            "http://localhost:8080/nbextensions/google.colab/files.js": {
              "data": "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",
              "ok": true,
              "headers": [
                [
                  "content-type",
                  "application/javascript"
                ]
              ],
              "status": 200,
              "status_text": "OK"
            }
          },
          "base_uri": "https://localhost:8080/",
          "height": 75
        },
        "outputId": "a4fd0bd7-9922-4404-bb5c-f679c21dfaee"
      },
      "source": [
        "from google.colab import files\n",
        "uploadlive = files.upload()"
      ],
      "execution_count": null,
      "outputs": [
        {
          "output_type": "display_data",
          "data": {
            "text/html": [
              "\n",
              "     <input type=\"file\" id=\"files-d04ca7a0-1159-4552-9053-1be2783ec97a\" name=\"files[]\" multiple disabled\n",
              "        style=\"border:none\" />\n",
              "     <output id=\"result-d04ca7a0-1159-4552-9053-1be2783ec97a\">\n",
              "      Upload widget is only available when the cell has been executed in the\n",
              "      current browser session. Please rerun this cell to enable.\n",
              "      </output>\n",
              "      <script src=\"/nbextensions/google.colab/files.js\"></script> "
            ],
            "text/plain": [
              "<IPython.core.display.HTML object>"
            ]
          },
          "metadata": {
            "tags": []
          }
        },
        {
          "output_type": "stream",
          "text": [
            "Saving live.csv to live.csv\n"
          ],
          "name": "stdout"
        }
      ]
    },
    {
      "cell_type": "code",
      "metadata": {
        "id": "5v6F9mcUBAev",
        "colab_type": "code",
        "colab": {}
      },
      "source": [
        "#NOW , UPLOADING THE SECOND DATASET ON WHICH WE WILL RUN THE PREDICTIONS"
      ],
      "execution_count": null,
      "outputs": []
    },
    {
      "cell_type": "code",
      "metadata": {
        "id": "yaq0Z777BAcP",
        "colab_type": "code",
        "colab": {
          "resources": {
            "http://localhost:8080/nbextensions/google.colab/files.js": {
              "data": "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",
              "ok": true,
              "headers": [
                [
                  "content-type",
                  "application/javascript"
                ]
              ],
              "status": 200,
              "status_text": "OK"
            }
          },
          "base_uri": "https://localhost:8080/",
          "height": 75
        },
        "outputId": "8547e3e4-f427-4801-cb2f-741173da9671"
      },
      "source": [
        "from google.colab import files\n",
        "upload = files.upload()"
      ],
      "execution_count": null,
      "outputs": [
        {
          "output_type": "display_data",
          "data": {
            "text/html": [
              "\n",
              "     <input type=\"file\" id=\"files-a7d1cbd5-2677-4203-9424-b729f48ac766\" name=\"files[]\" multiple disabled\n",
              "        style=\"border:none\" />\n",
              "     <output id=\"result-a7d1cbd5-2677-4203-9424-b729f48ac766\">\n",
              "      Upload widget is only available when the cell has been executed in the\n",
              "      current browser session. Please rerun this cell to enable.\n",
              "      </output>\n",
              "      <script src=\"/nbextensions/google.colab/files.js\"></script> "
            ],
            "text/plain": [
              "<IPython.core.display.HTML object>"
            ]
          },
          "metadata": {
            "tags": []
          }
        },
        {
          "output_type": "stream",
          "text": [
            "Saving bankf.csv to bankf.csv\n"
          ],
          "name": "stdout"
        }
      ]
    },
    {
      "cell_type": "code",
      "metadata": {
        "id": "6aZCx69ZBAZw",
        "colab_type": "code",
        "colab": {}
      },
      "source": [
        "##IMPORTING THE DIFFERENT LIBRARIES WE'LL BE REQUIRING FOR THE PROJECT\n",
        "\n",
        "'''\n",
        "THE MAIN LIBRARIES BEING : \n",
        "\n",
        "1)SK LEARN : HAS ALL THE MACHINE LEARNING TOOLS , PROCESSES AND ALGOS \n",
        "\n",
        "2)NUMPY : USED FOR MATHEMATICAL OPS ON LARGE ARRAYS AND VECTORS\n",
        "\n",
        "3)PANDAS : ACTS LIKE SQL FOR PYTHON , FIND , TRAVERSE AND MANIPULATE DATA\n",
        "\n",
        "4)SEABORN AND MATPLOTLIB : MAJOR LIBRARIES FOR PLOTTING GRAPHS\n",
        "\n",
        "'''"
      ],
      "execution_count": null,
      "outputs": []
    },
    {
      "cell_type": "code",
      "metadata": {
        "id": "bi-7H2HGBAXO",
        "colab_type": "code",
        "colab": {}
      },
      "source": [
        "import numpy as np\n",
        "import sklearn \t\n",
        "import pandas as pd\n",
        "import csv\n",
        "import seaborn as sns\n",
        "import matplotlib \n",
        "import matplotlib.pyplot as plt\n",
        "import xgboost\n",
        "\n",
        "from sklearn.neighbors import KNeighborsClassifier\n",
        "from sklearn import neighbors\n",
        "from sklearn import ensemble\n",
        "from sklearn.tree import DecisionTreeClassifier\n",
        "\n",
        "from sklearn.preprocessing import StandardScaler\n",
        "from sklearn import datasets,linear_model\n",
        "from sklearn.model_selection import cross_val_score\n",
        "\n",
        "from sklearn.linear_model import LogisticRegression\n",
        "from sklearn.linear_model import LogisticRegressionCV\n",
        "from sklearn.model_selection import train_test_split\n",
        "from sklearn import preprocessing\n",
        "\n",
        "from sklearn.pipeline import make_pipeline,FeatureUnion,Pipeline\n",
        "from sklearn.model_selection import GridSearchCV\n",
        "from sklearn import metrics\n",
        "\t\n",
        "from sklearn.metrics import mean_squared_error, r2_score\n",
        "from sklearn.ensemble import RandomForestClassifier\n",
        "from numpy import loadtxt\n",
        "from xgboost import XGBClassifier\n",
        "from sklearn.model_selection import train_test_split\n",
        "from sklearn.metrics import accuracy_score\n",
        "from sklearn.feature_selection import SelectFromModel\n",
        "from sklearn.metrics import classification_report\n",
        "from lightgbm import LGBMClassifier\n",
        "from sklearn.model_selection import RandomizedSearchCV\n",
        "from sklearn.preprocessing import OneHotEncoder\n",
        "from sklearn.preprocessing import LabelEncoder \n",
        "from sklearn.externals import joblib\n",
        "from sklearn.metrics import confusion_matrix\n"
      ],
      "execution_count": null,
      "outputs": []
    },
    {
      "cell_type": "code",
      "metadata": {
        "id": "0xINWA5sBAUl",
        "colab_type": "code",
        "colab": {}
      },
      "source": [
        "##NOW READING THE DATABASES (CSV FILES):\n",
        "\n",
        "final=pd.read_csv('live.csv') ##OUR TRAINING DATASET\n",
        "\n",
        "test=pd.read_csv('bankf.csv') ##TESTING DATSET\n"
      ],
      "execution_count": null,
      "outputs": []
    },
    {
      "cell_type": "code",
      "metadata": {
        "id": "XE49OLRZFxdS",
        "colab_type": "code",
        "colab": {}
      },
      "source": [
        "##RENAMING THE DEPOSIT COLUMN (TARGET) TO 'y' , YES/NO , SAME AS THAT OF THE TESTING DATASET\n",
        "\n",
        "\n",
        "final = final.rename({'deposit': 'y'}, axis=1)\n",
        "final = final.rename({'campaign': 'camp'}, axis=1)\n"
      ],
      "execution_count": null,
      "outputs": []
    },
    {
      "cell_type": "code",
      "metadata": {
        "id": "vgxS-XzgBAR-",
        "colab_type": "code",
        "colab": {
          "base_uri": "https://localhost:8080/",
          "height": 238
        },
        "outputId": "00a367e7-55c2-460f-b487-1da700948d52"
      },
      "source": [
        "#Fetching some rows from the TRAINING dataset \n",
        "final.head(6)"
      ],
      "execution_count": null,
      "outputs": [
        {
          "output_type": "execute_result",
          "data": {
            "text/html": [
              "<div>\n",
              "<style scoped>\n",
              "    .dataframe tbody tr th:only-of-type {\n",
              "        vertical-align: middle;\n",
              "    }\n",
              "\n",
              "    .dataframe tbody tr th {\n",
              "        vertical-align: top;\n",
              "    }\n",
              "\n",
              "    .dataframe thead th {\n",
              "        text-align: right;\n",
              "    }\n",
              "</style>\n",
              "<table border=\"1\" class=\"dataframe\">\n",
              "  <thead>\n",
              "    <tr style=\"text-align: right;\">\n",
              "      <th></th>\n",
              "      <th>age</th>\n",
              "      <th>job</th>\n",
              "      <th>marital</th>\n",
              "      <th>education</th>\n",
              "      <th>default</th>\n",
              "      <th>balance</th>\n",
              "      <th>housing</th>\n",
              "      <th>loan</th>\n",
              "      <th>contact</th>\n",
              "      <th>day</th>\n",
              "      <th>month</th>\n",
              "      <th>duration</th>\n",
              "      <th>camp</th>\n",
              "      <th>pdays</th>\n",
              "      <th>previous</th>\n",
              "      <th>poutcome</th>\n",
              "      <th>y</th>\n",
              "    </tr>\n",
              "  </thead>\n",
              "  <tbody>\n",
              "    <tr>\n",
              "      <th>0</th>\n",
              "      <td>59</td>\n",
              "      <td>admin.</td>\n",
              "      <td>married</td>\n",
              "      <td>secondary</td>\n",
              "      <td>no</td>\n",
              "      <td>2343</td>\n",
              "      <td>yes</td>\n",
              "      <td>no</td>\n",
              "      <td>unknown</td>\n",
              "      <td>5</td>\n",
              "      <td>may</td>\n",
              "      <td>1042</td>\n",
              "      <td>1</td>\n",
              "      <td>-1</td>\n",
              "      <td>0</td>\n",
              "      <td>unknown</td>\n",
              "      <td>yes</td>\n",
              "    </tr>\n",
              "    <tr>\n",
              "      <th>1</th>\n",
              "      <td>56</td>\n",
              "      <td>admin.</td>\n",
              "      <td>married</td>\n",
              "      <td>secondary</td>\n",
              "      <td>no</td>\n",
              "      <td>45</td>\n",
              "      <td>no</td>\n",
              "      <td>no</td>\n",
              "      <td>unknown</td>\n",
              "      <td>5</td>\n",
              "      <td>may</td>\n",
              "      <td>1467</td>\n",
              "      <td>1</td>\n",
              "      <td>-1</td>\n",
              "      <td>0</td>\n",
              "      <td>unknown</td>\n",
              "      <td>yes</td>\n",
              "    </tr>\n",
              "    <tr>\n",
              "      <th>2</th>\n",
              "      <td>41</td>\n",
              "      <td>technician</td>\n",
              "      <td>married</td>\n",
              "      <td>secondary</td>\n",
              "      <td>no</td>\n",
              "      <td>1270</td>\n",
              "      <td>yes</td>\n",
              "      <td>no</td>\n",
              "      <td>unknown</td>\n",
              "      <td>5</td>\n",
              "      <td>may</td>\n",
              "      <td>1389</td>\n",
              "      <td>1</td>\n",
              "      <td>-1</td>\n",
              "      <td>0</td>\n",
              "      <td>unknown</td>\n",
              "      <td>yes</td>\n",
              "    </tr>\n",
              "    <tr>\n",
              "      <th>3</th>\n",
              "      <td>55</td>\n",
              "      <td>services</td>\n",
              "      <td>married</td>\n",
              "      <td>secondary</td>\n",
              "      <td>no</td>\n",
              "      <td>2476</td>\n",
              "      <td>yes</td>\n",
              "      <td>no</td>\n",
              "      <td>unknown</td>\n",
              "      <td>5</td>\n",
              "      <td>may</td>\n",
              "      <td>579</td>\n",
              "      <td>1</td>\n",
              "      <td>-1</td>\n",
              "      <td>0</td>\n",
              "      <td>unknown</td>\n",
              "      <td>yes</td>\n",
              "    </tr>\n",
              "    <tr>\n",
              "      <th>4</th>\n",
              "      <td>54</td>\n",
              "      <td>admin.</td>\n",
              "      <td>married</td>\n",
              "      <td>tertiary</td>\n",
              "      <td>no</td>\n",
              "      <td>184</td>\n",
              "      <td>no</td>\n",
              "      <td>no</td>\n",
              "      <td>unknown</td>\n",
              "      <td>5</td>\n",
              "      <td>may</td>\n",
              "      <td>673</td>\n",
              "      <td>2</td>\n",
              "      <td>-1</td>\n",
              "      <td>0</td>\n",
              "      <td>unknown</td>\n",
              "      <td>yes</td>\n",
              "    </tr>\n",
              "    <tr>\n",
              "      <th>5</th>\n",
              "      <td>42</td>\n",
              "      <td>management</td>\n",
              "      <td>single</td>\n",
              "      <td>tertiary</td>\n",
              "      <td>no</td>\n",
              "      <td>0</td>\n",
              "      <td>yes</td>\n",
              "      <td>yes</td>\n",
              "      <td>unknown</td>\n",
              "      <td>5</td>\n",
              "      <td>may</td>\n",
              "      <td>562</td>\n",
              "      <td>2</td>\n",
              "      <td>-1</td>\n",
              "      <td>0</td>\n",
              "      <td>unknown</td>\n",
              "      <td>yes</td>\n",
              "    </tr>\n",
              "  </tbody>\n",
              "</table>\n",
              "</div>"
            ],
            "text/plain": [
              "   age         job  marital  education  ... pdays  previous poutcome    y\n",
              "0   59      admin.  married  secondary  ...    -1         0  unknown  yes\n",
              "1   56      admin.  married  secondary  ...    -1         0  unknown  yes\n",
              "2   41  technician  married  secondary  ...    -1         0  unknown  yes\n",
              "3   55    services  married  secondary  ...    -1         0  unknown  yes\n",
              "4   54      admin.  married   tertiary  ...    -1         0  unknown  yes\n",
              "5   42  management   single   tertiary  ...    -1         0  unknown  yes\n",
              "\n",
              "[6 rows x 17 columns]"
            ]
          },
          "metadata": {
            "tags": []
          },
          "execution_count": 8
        }
      ]
    },
    {
      "cell_type": "code",
      "metadata": {
        "id": "XfqnEMMFBAPm",
        "colab_type": "code",
        "colab": {
          "base_uri": "https://localhost:8080/",
          "height": 476
        },
        "outputId": "743cced3-33a6-46f0-9c23-841f18a4f726"
      },
      "source": [
        "#CHECKING FOR NULL VALUES AND COLUMN TYPE\n",
        "\n",
        "final.info()\n",
        "print('SHOWS NO NULL VALUES IN ANY ROW')"
      ],
      "execution_count": null,
      "outputs": [
        {
          "output_type": "stream",
          "text": [
            "<class 'pandas.core.frame.DataFrame'>\n",
            "RangeIndex: 11162 entries, 0 to 11161\n",
            "Data columns (total 17 columns):\n",
            " #   Column     Non-Null Count  Dtype \n",
            "---  ------     --------------  ----- \n",
            " 0   age        11162 non-null  int64 \n",
            " 1   job        11162 non-null  object\n",
            " 2   marital    11162 non-null  object\n",
            " 3   education  11162 non-null  object\n",
            " 4   default    11162 non-null  object\n",
            " 5   balance    11162 non-null  int64 \n",
            " 6   housing    11162 non-null  object\n",
            " 7   loan       11162 non-null  object\n",
            " 8   contact    11162 non-null  object\n",
            " 9   day        11162 non-null  int64 \n",
            " 10  month      11162 non-null  object\n",
            " 11  duration   11162 non-null  int64 \n",
            " 12  camp       11162 non-null  int64 \n",
            " 13  pdays      11162 non-null  int64 \n",
            " 14  previous   11162 non-null  int64 \n",
            " 15  poutcome   11162 non-null  object\n",
            " 16  y          11162 non-null  object\n",
            "dtypes: int64(7), object(10)\n",
            "memory usage: 1.4+ MB\n",
            "SHOWS NO NULL VALUES IN ANY ROW\n"
          ],
          "name": "stdout"
        }
      ]
    },
    {
      "cell_type": "code",
      "metadata": {
        "id": "fQMor4viBAM9",
        "colab_type": "code",
        "colab": {
          "base_uri": "https://localhost:8080/",
          "height": 293
        },
        "outputId": "e8d02d5d-3dcb-49bb-a923-bc68779cc683"
      },
      "source": [
        "#We check for any duplicate rows\n",
        "res = final.drop_duplicates() ##THIS CMD WILL DROP ANY ROWS THAT ARE COMPLETELY IDENTICAL\n",
        "print(res)\n",
        "\n",
        "print('We dont see any reduction in rows , thus no duplicates')"
      ],
      "execution_count": null,
      "outputs": [
        {
          "output_type": "stream",
          "text": [
            "       age          job  marital  education  ... pdays  previous poutcome    y\n",
            "0       59       admin.  married  secondary  ...    -1         0  unknown  yes\n",
            "1       56       admin.  married  secondary  ...    -1         0  unknown  yes\n",
            "2       41   technician  married  secondary  ...    -1         0  unknown  yes\n",
            "3       55     services  married  secondary  ...    -1         0  unknown  yes\n",
            "4       54       admin.  married   tertiary  ...    -1         0  unknown  yes\n",
            "...    ...          ...      ...        ...  ...   ...       ...      ...  ...\n",
            "11157   33  blue-collar   single    primary  ...    -1         0  unknown   no\n",
            "11158   39     services  married  secondary  ...    -1         0  unknown   no\n",
            "11159   32   technician   single  secondary  ...    -1         0  unknown   no\n",
            "11160   43   technician  married  secondary  ...   172         5  failure   no\n",
            "11161   34   technician  married  secondary  ...    -1         0  unknown   no\n",
            "\n",
            "[11162 rows x 17 columns]\n",
            "We dont see any reduction in rows , thus no duplicates\n"
          ],
          "name": "stdout"
        }
      ]
    },
    {
      "cell_type": "code",
      "metadata": {
        "id": "Ow77aBApBAKN",
        "colab_type": "code",
        "colab": {
          "base_uri": "https://localhost:8080/",
          "height": 366
        },
        "outputId": "796eadfd-4b2a-4a64-e3a1-03c51fe8b497"
      },
      "source": [
        "#Checking for misssing values , I.E THAT ARE BLANK AND DONT HAVE ANY DATA\n",
        "\n",
        "print(final.isnull().sum())\n",
        "print(\"NO NULL OR MISSING VALUES\")"
      ],
      "execution_count": null,
      "outputs": [
        {
          "output_type": "stream",
          "text": [
            "age          0\n",
            "job          0\n",
            "marital      0\n",
            "education    0\n",
            "default      0\n",
            "balance      0\n",
            "housing      0\n",
            "loan         0\n",
            "contact      0\n",
            "day          0\n",
            "month        0\n",
            "duration     0\n",
            "camp         0\n",
            "pdays        0\n",
            "previous     0\n",
            "poutcome     0\n",
            "y            0\n",
            "dtype: int64\n",
            "NO NULL OR MISSING VALUES\n"
          ],
          "name": "stdout"
        }
      ]
    },
    {
      "cell_type": "code",
      "metadata": {
        "id": "e3hwalYJBAG-",
        "colab_type": "code",
        "colab": {
          "base_uri": "https://localhost:8080/",
          "height": 256
        },
        "outputId": "1274fb6c-bf0d-4eaf-f703-19f2e3690613"
      },
      "source": [
        "##NOW WE'LL CONVERT THE OBJECT COLUMNS OF THE TRAINING DATSET TO CATEGORICAL VALUES FOR CLASSIFICATION.\n",
        "\n",
        "finalob=pd.read_csv('live.csv')\n",
        "\n",
        "for col in finalob.columns:\n",
        "    if finalob[col].dtype==object:\n",
        "           finalob[col]=finalob[col].astype('category')\n",
        "           finalob[col]=finalob[col].cat.codes\n",
        "\n",
        "print(final.head(3))\n",
        "print(finalob.head(3))\n",
        "\n",
        "finalob = finalob.rename({'deposit': 'y'}, axis=1)\n",
        "finalob = finalob.rename({'campaign': 'camp'}, axis=1)\n",
        "\n",
        "print('ALL THE STRING VALUES HAVE BEEN CONVERTED TO CATEGORICAL MATRICES FOR CLASSIFICATION')"
      ],
      "execution_count": null,
      "outputs": [
        {
          "output_type": "stream",
          "text": [
            "   age         job  marital  education  ... pdays  previous poutcome    y\n",
            "0   59      admin.  married  secondary  ...    -1         0  unknown  yes\n",
            "1   56      admin.  married  secondary  ...    -1         0  unknown  yes\n",
            "2   41  technician  married  secondary  ...    -1         0  unknown  yes\n",
            "\n",
            "[3 rows x 17 columns]\n",
            "   age  job  marital  education  ...  pdays  previous  poutcome  deposit\n",
            "0   59    0        1          1  ...     -1         0         3        1\n",
            "1   56    0        1          1  ...     -1         0         3        1\n",
            "2   41    9        1          1  ...     -1         0         3        1\n",
            "\n",
            "[3 rows x 17 columns]\n",
            "ALL THE STRING VALUES HAVE BEEN CONVERTED TO CATEGORICAL MATRICES FOR CLASSIFICATION\n"
          ],
          "name": "stdout"
        }
      ]
    },
    {
      "cell_type": "code",
      "metadata": {
        "id": "liLeGLcuHS1b",
        "colab_type": "code",
        "colab": {
          "base_uri": "https://localhost:8080/",
          "height": 352
        },
        "outputId": "bcfa317c-4ac9-4c0b-a65a-0dbd2eb63323"
      },
      "source": [
        "#query geneation for specific rows\n",
        "\n",
        "#total number of DEPOSTIS acquired\n",
        "(final.loc[ (final['y']=='yes')])\n",
        "\n",
        "print('Customers acquired =',len((final.loc[ (final['y']=='yes')])))\n",
        "print('Total Targets =',len(final['age']))\n",
        "\n",
        "#print('% acquired =',11.265417111)\n",
        "plt.figure()\n",
        "\n",
        "colors = ['#99ff99','#ff9999','#66b3ff','#ffcc99']\n",
        "plt.rcParams['figure.figsize'] = (6, 4)\n",
        "\n",
        "labels = ['% yes', '% no']\n",
        "sizes = [47.38,52.62]# only \"explode\" the 2nd slice (i.e. 'Hogs')\n",
        "explode = (0, 0.1,)\n",
        "fig1, ax1 = plt.subplots()\n",
        "ax1.pie(sizes, explode=explode, labels=labels, autopct='%1.1f%%',\n",
        "        shadow=True, startangle=90,colors=colors)\n",
        "# Equal aspect ratio ensures that pie is drawn as a circle\n",
        "ax1.axis('equal')  \n",
        "plt.tight_layout()"
      ],
      "execution_count": null,
      "outputs": [
        {
          "output_type": "stream",
          "text": [
            "Customers acquired = 5289\n",
            "Total Targets = 11162\n"
          ],
          "name": "stdout"
        },
        {
          "output_type": "display_data",
          "data": {
            "text/plain": [
              "<Figure size 432x288 with 0 Axes>"
            ]
          },
          "metadata": {
            "tags": []
          }
        },
        {
          "output_type": "display_data",
          "data": {
            "image/png": "[encoded data removed]",
            "text/plain": [
              "<Figure size 432x288 with 1 Axes>"
            ]
          },
          "metadata": {
            "tags": []
          }
        }
      ]
    },
    {
      "cell_type": "code",
      "metadata": {
        "id": "u0ssqz-AHzH2",
        "colab_type": "code",
        "colab": {
          "base_uri": "https://localhost:8080/",
          "height": 219
        },
        "outputId": "fc1422bc-849f-4d80-9a1b-08ec90370453"
      },
      "source": [
        "''' THE PANDAS COMMANDS HASHED BELOW ARE USEFUL FOR TRAVERSING DATA , FINDING USEFUL INFO \n",
        "\n",
        "#print('min age success =',(doc.loc[ (doc['y']=='yes')] & ((doc['age']==min(doc['age'])))))\n",
        "#sets.loc[(sets['Market_dist']>=10000) & (sets['Parking_type']=='Covered') & (sets['City_type']==\"CAT B\")]\n",
        "#print(tempframe.loc[ (tempframe['y']=='yes') & (tempframe['age']==17)])\n",
        "#print(tempframe.loc[ (tempframe['y']=='yes') & (tempframe['age']==98)])\n",
        "\n",
        "'''\n",
        "\n",
        "#creating a temp dataset which only inlcudes confirmed depositers\n",
        "finalframe=(final.loc[(final['y']=='yes')])\n",
        "print(finalframe.head(7))\n",
        "\n",
        "print('THE FINALFRAME CAN BE CONSIDERED AS A MINI DATABASE WHICH CONTAINS THE VALUES OF PEOPLE WHO HAVE AGREED FOR DEPOSIT')"
      ],
      "execution_count": null,
      "outputs": [
        {
          "output_type": "stream",
          "text": [
            "   age         job  marital  education  ... pdays  previous poutcome    y\n",
            "0   59      admin.  married  secondary  ...    -1         0  unknown  yes\n",
            "1   56      admin.  married  secondary  ...    -1         0  unknown  yes\n",
            "2   41  technician  married  secondary  ...    -1         0  unknown  yes\n",
            "3   55    services  married  secondary  ...    -1         0  unknown  yes\n",
            "4   54      admin.  married   tertiary  ...    -1         0  unknown  yes\n",
            "5   42  management   single   tertiary  ...    -1         0  unknown  yes\n",
            "6   56  management  married   tertiary  ...    -1         0  unknown  yes\n",
            "\n",
            "[7 rows x 17 columns]\n",
            "THE FINALFRAME CAN BE CONSIDERED AS A MINI DATABASE WHICH CONTAINS THE VALUES OF PEOPLE WHO HAVE AGREED FOR DEPOSIT\n"
          ],
          "name": "stdout"
        }
      ]
    },
    {
      "cell_type": "code",
      "metadata": {
        "id": "tJMN1Bm8IaiR",
        "colab_type": "code",
        "colab": {}
      },
      "source": [
        "'''NOW WE'LL TAKE A LOOK AT THE VARIOUS COLUMNS OF OUR DATSET'''"
      ],
      "execution_count": null,
      "outputs": []
    },
    {
      "cell_type": "code",
      "metadata": {
        "id": "v1SuSSvIJE8m",
        "colab_type": "code",
        "colab": {
          "base_uri": "https://localhost:8080/",
          "height": 1000
        },
        "outputId": "98c22f1a-7745-4bea-ffa5-3814ef11937e"
      },
      "source": [
        "#checking min and max age for people targeted \n",
        "\n",
        "print('min age target =',min(final['age']))\n",
        "print('max age target =',max(final['age']))\n",
        "\n",
        "\n",
        "\n",
        "#finding the min and max age of depositers\n",
        "print('min acquired customer age =',min(finalframe['age']))\n",
        "print('max acquired customer age =',max(finalframe['age']))\n",
        "\n",
        "plt.figure()\n",
        "fig, ax = plt.subplots()\n",
        "fig.set_size_inches(16, 10)\n",
        "sns.countplot(x = final['age'], data = final)\n",
        "ax.set_xlabel('Age', fontsize=15)\n",
        "ax.set_ylabel('Count', fontsize=15)\n",
        "ax.set_title('Age Count Distribution', fontsize=15)\n",
        "sns.despine()\n",
        "\n",
        "\n",
        "plt.figure()\n",
        "plt.rcParams['figure.figsize'] = (9, 4)\n",
        "\n",
        "plt.xlabel('Age')\n",
        "plt.ylabel('Agreed to deposit or not')\n",
        "plt.scatter(final['age'],final['y'])\n",
        "\n",
        "\n",
        "print(final['age'].describe())\n",
        "\n",
        "print(\"THE LAST FEW OBSERVATIONS FOR THE ACQUIRED CUSTOMERS IN AGE COLUMN MAY BE OUTLIERS\")\n"
      ],
      "execution_count": null,
      "outputs": [
        {
          "output_type": "stream",
          "text": [
            "min age target = 18\n",
            "max age target = 95\n",
            "min acquired customer age = 18\n",
            "max acquired customer age = 95\n",
            "count    11162.000000\n",
            "mean        41.231948\n",
            "std         11.913369\n",
            "min         18.000000\n",
            "25%         32.000000\n",
            "50%         39.000000\n",
            "75%         49.000000\n",
            "max         95.000000\n",
            "Name: age, dtype: float64\n",
            "THE LAST FEW OBSERVATIONS FOR THE ACQUIRED CUSTOMERS IN AGE COLUMN MAY BE OUTLIERS\n"
          ],
          "name": "stdout"
        },
        {
          "output_type": "display_data",
          "data": {
            "text/plain": [
              "<Figure size 432x288 with 0 Axes>"
            ]
          },
          "metadata": {
            "tags": []
          }
        },
        {
          "output_type": "display_data",
          "data": {
            "image/png": "[encoded data removed]",
            "text/plain": [
              "<Figure size 1152x720 with 1 Axes>"
            ]
          },
          "metadata": {
            "tags": [],
            "needs_background": "light"
          }
        },
        {
          "output_type": "display_data",
          "data": {
            "image/png": "[encoded data removed]",
            "text/plain": [
              "<Figure size 432x288 with 1 Axes>"
            ]
          },
          "metadata": {
            "tags": [],
            "needs_background": "light"
          }
        }
      ]
    },
    {
      "cell_type": "code",
      "metadata": {
        "id": "T5FOAMD3JcNY",
        "colab_type": "code",
        "colab": {
          "base_uri": "https://localhost:8080/",
          "height": 237
        },
        "outputId": "2c353886-a3c7-4f19-ef1e-cc8a243929af"
      },
      "source": [
        "print(\"WE CAN SEE FEW CUSTOMERS WITH AGE MORE THAN 95 , LETS SEE THE TOTAL NUMBER OF PEOPLE ABOVE 90 WHO DEPOSIT\")\n",
        "\n",
        "print(final.loc[(final['age']>=90)])\n",
        "\n",
        "print(\"WE HAVE 7 RETIRED PEOPLE WITH AGE ABOVE 90 AS DEPOSITERS WITH THE MOST FREQUENT BALANCE BEING 700-800 , THUS THEY REPRESENT A CRUCICAL PART FOR CLASSIFICATION \")"
      ],
      "execution_count": null,
      "outputs": [
        {
          "output_type": "stream",
          "text": [
            "WE CAN SEE FEW CUSTOMERS WITH AGE MORE THAN 95 , LETS SEE THE TOTAL NUMBER OF PEOPLE ABOVE 90 WHO DEPOSIT\n",
            "      age      job   marital  education  ... pdays  previous poutcome    y\n",
            "1243   90  retired  divorced  secondary  ...    -1         0  unknown  yes\n",
            "1582   95  retired  divorced    primary  ...    -1         0  unknown  yes\n",
            "2802   92  retired   married    unknown  ...    -1         0  unknown  yes\n",
            "3098   92  retired   married    unknown  ...    96         3  success  yes\n",
            "3292   90  retired  divorced    primary  ...    -1         0  unknown  yes\n",
            "3756   93  retired   married    unknown  ...   177         7  success  yes\n",
            "3822   93  retired   married    unknown  ...    13         9  success  yes\n",
            "\n",
            "[7 rows x 17 columns]\n",
            "WE HAVE 7 RETIRED PEOPLE WITH AGE ABOVE 90 AS DEPOSITERS WITH THE MOST FREQUENT BALANCE BEING 700-800 , THUS THEY REPRESENT A CRUCICAL PART FOR CLASSIFICATION \n"
          ],
          "name": "stdout"
        }
      ]
    },
    {
      "cell_type": "code",
      "metadata": {
        "id": "vvHidKtTKDHk",
        "colab_type": "code",
        "colab": {
          "base_uri": "https://localhost:8080/",
          "height": 453
        },
        "outputId": "2dc3bdd1-51d9-4e4f-bc2e-24dd5dd5e992"
      },
      "source": [
        "#JOBS COLUMN\n",
        "print('THE DIFFERENT JOBS ARE :',final['job'].unique())\n",
        "\n",
        "#print(doc['job'].groupbydescribe())\n",
        "#print(doc['y'].groupby\n",
        "\n",
        "fig, ax = plt.subplots()\n",
        "fig.set_size_inches(22, 6)\n",
        "sns.countplot(x = 'job', data = final)\n",
        "ax.set_xlabel('Job', fontsize=15)\n",
        "ax.set_ylabel('Count', fontsize=15)\n",
        "#ax.set_title('Age Count Distribution, fontsize=15)\n",
        "ax.tick_params(labelsize=15)\n",
        "sns.despine()"
      ],
      "execution_count": null,
      "outputs": [
        {
          "output_type": "stream",
          "text": [
            "THE DIFFERENT JOBS ARE : ['admin.' 'technician' 'services' 'management' 'retired' 'blue-collar'\n",
            " 'unemployed' 'entrepreneur' 'housemaid' 'unknown' 'self-employed'\n",
            " 'student']\n"
          ],
          "name": "stdout"
        },
        {
          "output_type": "display_data",
          "data": {
            "image/png": "[encoded data removed]",
            "text/plain": [
              "<Figure size 1584x432 with 1 Axes>"
            ]
          },
          "metadata": {
            "tags": [],
            "needs_background": "light"
          }
        }
      ]
    },
    {
      "cell_type": "code",
      "metadata": {
        "id": "ITUgy8IJK-4Q",
        "colab_type": "code",
        "colab": {
          "base_uri": "https://localhost:8080/",
          "height": 398
        },
        "outputId": "ba4ff863-5987-42ba-afb4-1c5d6ac50d9e"
      },
      "source": [
        "#LETS SEE THE YES COUNT VS THE JOB PROFILE \n",
        "\n",
        "plt.figure\n",
        "fig, ax = plt.subplots()\n",
        "fig.set_size_inches(22, 6)\n",
        "sns.countplot(x = 'job', data = finalframe)\n",
        "ax.set_xlabel('Job', fontsize=15)\n",
        "ax.set_ylabel(' YES Count', fontsize=15)\n",
        "#ax.set_title('Age Count Distribution, fontsize=15)\n",
        "ax.tick_params(labelsize=15)\n",
        "sns.despine()"
      ],
      "execution_count": null,
      "outputs": [
        {
          "output_type": "display_data",
          "data": {
            "image/png": "[encoded data removed]",
            "text/plain": [
              "<Figure size 1584x432 with 1 Axes>"
            ]
          },
          "metadata": {
            "tags": [],
            "needs_background": "light"
          }
        }
      ]
    },
    {
      "cell_type": "code",
      "metadata": {
        "id": "AvO1qRAiK4hY",
        "colab_type": "code",
        "colab": {
          "base_uri": "https://localhost:8080/",
          "height": 226
        },
        "outputId": "ab550603-1cca-4bf7-b66c-43aa25ae5c02"
      },
      "source": [
        "table = pd.crosstab(index=final[\"y\"], \n",
        "                             columns=[final[\"job\"],final['marital']],margins=True)   # Include row and column totals\n",
        "\n",
        "(table)"
      ],
      "execution_count": null,
      "outputs": [
        {
          "output_type": "execute_result",
          "data": {
            "text/html": [
              "<div>\n",
              "<style scoped>\n",
              "    .dataframe tbody tr th:only-of-type {\n",
              "        vertical-align: middle;\n",
              "    }\n",
              "\n",
              "    .dataframe tbody tr th {\n",
              "        vertical-align: top;\n",
              "    }\n",
              "\n",
              "    .dataframe thead tr th {\n",
              "        text-align: left;\n",
              "    }\n",
              "\n",
              "    .dataframe thead tr:last-of-type th {\n",
              "        text-align: right;\n",
              "    }\n",
              "</style>\n",
              "<table border=\"1\" class=\"dataframe\">\n",
              "  <thead>\n",
              "    <tr>\n",
              "      <th>job</th>\n",
              "      <th colspan=\"3\" halign=\"left\">admin.</th>\n",
              "      <th colspan=\"3\" halign=\"left\">blue-collar</th>\n",
              "      <th colspan=\"3\" halign=\"left\">entrepreneur</th>\n",
              "      <th colspan=\"3\" halign=\"left\">housemaid</th>\n",
              "      <th colspan=\"3\" halign=\"left\">management</th>\n",
              "      <th colspan=\"3\" halign=\"left\">retired</th>\n",
              "      <th colspan=\"3\" halign=\"left\">self-employed</th>\n",
              "      <th colspan=\"3\" halign=\"left\">services</th>\n",
              "      <th colspan=\"3\" halign=\"left\">student</th>\n",
              "      <th colspan=\"3\" halign=\"left\">technician</th>\n",
              "      <th colspan=\"3\" halign=\"left\">unemployed</th>\n",
              "      <th colspan=\"3\" halign=\"left\">unknown</th>\n",
              "      <th>All</th>\n",
              "    </tr>\n",
              "    <tr>\n",
              "      <th>marital</th>\n",
              "      <th>divorced</th>\n",
              "      <th>married</th>\n",
              "      <th>single</th>\n",
              "      <th>divorced</th>\n",
              "      <th>married</th>\n",
              "      <th>single</th>\n",
              "      <th>divorced</th>\n",
              "      <th>married</th>\n",
              "      <th>single</th>\n",
              "      <th>divorced</th>\n",
              "      <th>married</th>\n",
              "      <th>single</th>\n",
              "      <th>divorced</th>\n",
              "      <th>married</th>\n",
              "      <th>single</th>\n",
              "      <th>divorced</th>\n",
              "      <th>married</th>\n",
              "      <th>single</th>\n",
              "      <th>divorced</th>\n",
              "      <th>married</th>\n",
              "      <th>single</th>\n",
              "      <th>divorced</th>\n",
              "      <th>married</th>\n",
              "      <th>single</th>\n",
              "      <th>divorced</th>\n",
              "      <th>married</th>\n",
              "      <th>single</th>\n",
              "      <th>divorced</th>\n",
              "      <th>married</th>\n",
              "      <th>single</th>\n",
              "      <th>divorced</th>\n",
              "      <th>married</th>\n",
              "      <th>single</th>\n",
              "      <th>divorced</th>\n",
              "      <th>married</th>\n",
              "      <th>single</th>\n",
              "      <th></th>\n",
              "    </tr>\n",
              "    <tr>\n",
              "      <th>y</th>\n",
              "      <th></th>\n",
              "      <th></th>\n",
              "      <th></th>\n",
              "      <th></th>\n",
              "      <th></th>\n",
              "      <th></th>\n",
              "      <th></th>\n",
              "      <th></th>\n",
              "      <th></th>\n",
              "      <th></th>\n",
              "      <th></th>\n",
              "      <th></th>\n",
              "      <th></th>\n",
              "      <th></th>\n",
              "      <th></th>\n",
              "      <th></th>\n",
              "      <th></th>\n",
              "      <th></th>\n",
              "      <th></th>\n",
              "      <th></th>\n",
              "      <th></th>\n",
              "      <th></th>\n",
              "      <th></th>\n",
              "      <th></th>\n",
              "      <th></th>\n",
              "      <th></th>\n",
              "      <th></th>\n",
              "      <th></th>\n",
              "      <th></th>\n",
              "      <th></th>\n",
              "      <th></th>\n",
              "      <th></th>\n",
              "      <th></th>\n",
              "      <th></th>\n",
              "      <th></th>\n",
              "      <th></th>\n",
              "      <th></th>\n",
              "    </tr>\n",
              "  </thead>\n",
              "  <tbody>\n",
              "    <tr>\n",
              "      <th>no</th>\n",
              "      <td>92</td>\n",
              "      <td>371</td>\n",
              "      <td>240</td>\n",
              "      <td>91</td>\n",
              "      <td>898</td>\n",
              "      <td>247</td>\n",
              "      <td>27</td>\n",
              "      <td>153</td>\n",
              "      <td>25</td>\n",
              "      <td>28</td>\n",
              "      <td>123</td>\n",
              "      <td>14</td>\n",
              "      <td>146</td>\n",
              "      <td>747</td>\n",
              "      <td>372</td>\n",
              "      <td>50</td>\n",
              "      <td>199</td>\n",
              "      <td>13</td>\n",
              "      <td>17</td>\n",
              "      <td>143</td>\n",
              "      <td>58</td>\n",
              "      <td>71</td>\n",
              "      <td>326</td>\n",
              "      <td>157</td>\n",
              "      <td>1</td>\n",
              "      <td>5</td>\n",
              "      <td>85</td>\n",
              "      <td>127</td>\n",
              "      <td>514</td>\n",
              "      <td>342</td>\n",
              "      <td>20</td>\n",
              "      <td>89</td>\n",
              "      <td>46</td>\n",
              "      <td>1</td>\n",
              "      <td>28</td>\n",
              "      <td>7</td>\n",
              "      <td>5873</td>\n",
              "    </tr>\n",
              "    <tr>\n",
              "      <th>yes</th>\n",
              "      <td>90</td>\n",
              "      <td>306</td>\n",
              "      <td>235</td>\n",
              "      <td>58</td>\n",
              "      <td>437</td>\n",
              "      <td>213</td>\n",
              "      <td>15</td>\n",
              "      <td>81</td>\n",
              "      <td>27</td>\n",
              "      <td>18</td>\n",
              "      <td>67</td>\n",
              "      <td>24</td>\n",
              "      <td>142</td>\n",
              "      <td>681</td>\n",
              "      <td>478</td>\n",
              "      <td>121</td>\n",
              "      <td>382</td>\n",
              "      <td>13</td>\n",
              "      <td>22</td>\n",
              "      <td>79</td>\n",
              "      <td>86</td>\n",
              "      <td>50</td>\n",
              "      <td>178</td>\n",
              "      <td>141</td>\n",
              "      <td>1</td>\n",
              "      <td>10</td>\n",
              "      <td>258</td>\n",
              "      <td>77</td>\n",
              "      <td>416</td>\n",
              "      <td>347</td>\n",
              "      <td>27</td>\n",
              "      <td>97</td>\n",
              "      <td>78</td>\n",
              "      <td>1</td>\n",
              "      <td>21</td>\n",
              "      <td>12</td>\n",
              "      <td>5289</td>\n",
              "    </tr>\n",
              "    <tr>\n",
              "      <th>All</th>\n",
              "      <td>182</td>\n",
              "      <td>677</td>\n",
              "      <td>475</td>\n",
              "      <td>149</td>\n",
              "      <td>1335</td>\n",
              "      <td>460</td>\n",
              "      <td>42</td>\n",
              "      <td>234</td>\n",
              "      <td>52</td>\n",
              "      <td>46</td>\n",
              "      <td>190</td>\n",
              "      <td>38</td>\n",
              "      <td>288</td>\n",
              "      <td>1428</td>\n",
              "      <td>850</td>\n",
              "      <td>171</td>\n",
              "      <td>581</td>\n",
              "      <td>26</td>\n",
              "      <td>39</td>\n",
              "      <td>222</td>\n",
              "      <td>144</td>\n",
              "      <td>121</td>\n",
              "      <td>504</td>\n",
              "      <td>298</td>\n",
              "      <td>2</td>\n",
              "      <td>15</td>\n",
              "      <td>343</td>\n",
              "      <td>204</td>\n",
              "      <td>930</td>\n",
              "      <td>689</td>\n",
              "      <td>47</td>\n",
              "      <td>186</td>\n",
              "      <td>124</td>\n",
              "      <td>2</td>\n",
              "      <td>49</td>\n",
              "      <td>19</td>\n",
              "      <td>11162</td>\n",
              "    </tr>\n",
              "  </tbody>\n",
              "</table>\n",
              "</div>"
            ],
            "text/plain": [
              "job       admin.                blue-collar  ...  unknown                   All\n",
              "marital divorced married single    divorced  ... divorced married single       \n",
              "y                                            ...                               \n",
              "no            92     371    240          91  ...        1      28      7   5873\n",
              "yes           90     306    235          58  ...        1      21     12   5289\n",
              "All          182     677    475         149  ...        2      49     19  11162\n",
              "\n",
              "[3 rows x 37 columns]"
            ]
          },
          "metadata": {
            "tags": []
          },
          "execution_count": 19
        }
      ]
    },
    {
      "cell_type": "code",
      "metadata": {
        "id": "HZjrBb-VLKpq",
        "colab_type": "code",
        "colab": {}
      },
      "source": [
        ""
      ],
      "execution_count": null,
      "outputs": []
    },
    {
      "cell_type": "code",
      "metadata": {
        "id": "5QNXiPExM-jn",
        "colab_type": "code",
        "colab": {
          "base_uri": "https://localhost:8080/",
          "height": 774
        },
        "outputId": "a995d4cd-9482-4678-a22c-e010ab7d63d2"
      },
      "source": [
        "#CHECKING FOR DIFFERENT VALUES IN THE MARRIED COLUMN\n",
        "\n",
        "print('different marital status =',final['marital'].unique())\n",
        "\n",
        "print('No of customers married =',len(finalframe.loc[(finalframe['marital']=='married')]))\n",
        "\n",
        "print('No of customers single =',len(finalframe.loc[(finalframe['marital']=='single')]))\n",
        "\n",
        "print('No of customers divorced =',len(finalframe.loc[(finalframe['marital']=='divorced')]))\n",
        "\n",
        "print('No of customers with unknown status =',len(finalframe.loc[(finalframe['marital']=='unknown')]))\n",
        "\n",
        "plt.figure()\n",
        "\n",
        "colors = ['#99ff99','#ff9999','#66b3ff','#ffcc99']\n",
        "plt.rcParams['figure.figsize'] = (6, 4)\n",
        "\n",
        "labels = ['% married','% single','%divorced','%unknown']\n",
        "sizes = [52.08,36.15,11.76,0.0]# only \"explode\" the 2nd slice (i.e. 'Hogs')\n",
        "explode = (0.1, 0,0,0)\n",
        "fig1, ax1 = plt.subplots()\n",
        "ax1.pie(sizes, explode=explode, labels=labels, autopct='%1.1f%%',\n",
        "        shadow=True, startangle=90,colors=colors)\n",
        "# Equal aspect ratio ensures that pie is drawn as a circle\n",
        "ax1.axis('equal')  \n",
        "plt.tight_layout()\n",
        "plt.show()\n",
        "\n",
        "plt.figure()\n",
        "fig, ax = plt.subplots()\n",
        "fig.set_size_inches(10, 5)\n",
        "sns.countplot(x = 'marital', data = final)\n",
        "ax.set_xlabel('Marital', fontsize=15)\n",
        "ax.set_ylabel('Count', fontsize=15)\n",
        "ax.set_title('Marital Count Distribution', fontsize=15)\n",
        "ax.tick_params(labelsize=15)\n",
        "sns.despine()\n",
        "\n"
      ],
      "execution_count": null,
      "outputs": [
        {
          "output_type": "stream",
          "text": [
            "different marital status = ['married' 'single' 'divorced']\n",
            "No of customers married = 2755\n",
            "No of customers single = 1912\n",
            "No of customers divorced = 622\n",
            "No of customers with unknown status = 0\n"
          ],
          "name": "stdout"
        },
        {
          "output_type": "display_data",
          "data": {
            "text/plain": [
              "<Figure size 648x288 with 0 Axes>"
            ]
          },
          "metadata": {
            "tags": []
          }
        },
        {
          "output_type": "display_data",
          "data": {
            "image/png": "[encoded data removed]",
            "text/plain": [
              "<Figure size 432x288 with 1 Axes>"
            ]
          },
          "metadata": {
            "tags": []
          }
        },
        {
          "output_type": "display_data",
          "data": {
            "text/plain": [
              "<Figure size 432x288 with 0 Axes>"
            ]
          },
          "metadata": {
            "tags": []
          }
        },
        {
          "output_type": "display_data",
          "data": {
            "image/png": "[encoded data removed]",
            "text/plain": [
              "<Figure size 720x360 with 1 Axes>"
            ]
          },
          "metadata": {
            "tags": [],
            "needs_background": "light"
          }
        }
      ]
    },
    {
      "cell_type": "code",
      "metadata": {
        "id": "aL4vx29ANC7m",
        "colab_type": "code",
        "colab": {
          "base_uri": "https://localhost:8080/",
          "height": 531
        },
        "outputId": "08534a22-07d1-480c-fab9-3aa754b261f2"
      },
      "source": [
        "print('Profiling for the MARITAL AND AGE GROUP')\n",
        "age_group_names = ['young', 'lower middle', 'middle', 'senior']\n",
        "final['agegroups'] = pd.qcut(final['age'], 4, labels = age_group_names)\n",
        "gb_marital_age = final['y'].groupby([final['marital'],final['agegroups']] ) \n",
        "print(gb_marital_age.value_counts())\n",
        "\n",
        "print(\"THE MAX SUBSCRIBERS ARE MARRIED SENIORS AND SINGLE YOUNG PEOPLE\")"
      ],
      "execution_count": null,
      "outputs": [
        {
          "output_type": "stream",
          "text": [
            "Profiling for the MARITAL AND AGE GROUP\n",
            "marital   agegroups     y  \n",
            "divorced  young         no       53\n",
            "                        yes      43\n",
            "          lower middle  no      153\n",
            "                        yes     126\n",
            "          middle        no      238\n",
            "                        yes     175\n",
            "          senior        yes     278\n",
            "                        no      227\n",
            "married   young         no      525\n",
            "                        yes     349\n",
            "          lower middle  no      985\n",
            "                        yes     687\n",
            "          middle        no     1116\n",
            "                        yes     678\n",
            "          senior        yes    1041\n",
            "                        no      970\n",
            "single    young         yes    1180\n",
            "                        no      830\n",
            "          lower middle  no      482\n",
            "                        yes     456\n",
            "          middle        no      211\n",
            "                        yes     210\n",
            "          senior        no       83\n",
            "                        yes      66\n",
            "Name: y, dtype: int64\n",
            "THE MAX SUBSCRIBERS ARE MARRIED SENIORS AND SINGLE YOUNG PEOPLE\n"
          ],
          "name": "stdout"
        }
      ]
    },
    {
      "cell_type": "code",
      "metadata": {
        "id": "T92_Kk92NXVw",
        "colab_type": "code",
        "colab": {
          "base_uri": "https://localhost:8080/",
          "height": 311
        },
        "outputId": "6031d189-a943-4bca-c1e4-440097e40164"
      },
      "source": [
        "#EDUCATION COLUMN\n",
        "plt.figure()\n",
        "\n",
        "ig, ax = plt.subplots()\n",
        "fig.set_size_inches(60, 200)\n",
        "sns.countplot(x = 'education', data = final)\n",
        "ax.set_xlabel('Education', fontsize=11)\n",
        "ax.set_ylabel('Count', fontsize=10)\n",
        "ax.set_title('Education Count Distribution', fontsize=10)\n",
        "ax.tick_params(labelsize=11)\n",
        "sns.despine()\n",
        "\n",
        "#print(final['marital'].groupby([final['education'],final['y']]).describe())\n",
        "\n",
        "table = pd.crosstab(index=final[\"y\"], \n",
        "                             columns=[final[\"education\"]],margins=True)  \n",
        "\n"
      ],
      "execution_count": null,
      "outputs": [
        {
          "output_type": "display_data",
          "data": {
            "text/plain": [
              "<Figure size 432x288 with 0 Axes>"
            ]
          },
          "metadata": {
            "tags": []
          }
        },
        {
          "output_type": "display_data",
          "data": {
            "image/png": "[encoded data removed]",
            "text/plain": [
              "<Figure size 432x288 with 1 Axes>"
            ]
          },
          "metadata": {
            "tags": [],
            "needs_background": "light"
          }
        }
      ]
    },
    {
      "cell_type": "code",
      "metadata": {
        "id": "1VPGCDnQNkZ4",
        "colab_type": "code",
        "colab": {
          "base_uri": "https://localhost:8080/",
          "height": 127
        },
        "outputId": "7de94f2c-3a59-43ec-da97-d519d8c93c48"
      },
      "source": [
        "table = pd.crosstab(index=final[\"y\"], \n",
        "                             columns=[final[\"education\"]],margins=True)  \n",
        "print(table)\n",
        "\n",
        "print(\"IT SHOWS US HERE THAT THE MORE EDUCATED A PERSON IS , THE MORE LIKELY HE WILL BE OPTING FOR A DEPOSIT \")"
      ],
      "execution_count": null,
      "outputs": [
        {
          "output_type": "stream",
          "text": [
            "education  primary  secondary  tertiary  unknown    All\n",
            "y                                                      \n",
            "no             909       3026      1693      245   5873\n",
            "yes            591       2450      1996      252   5289\n",
            "All           1500       5476      3689      497  11162\n",
            "IT SHOWS US HERE THAT THE MORE EDUCATED A PERSON IS , THE MORE LIKELY HE WILL BE OPTING FOR A DEPOSIT \n"
          ],
          "name": "stdout"
        }
      ]
    },
    {
      "cell_type": "code",
      "metadata": {
        "id": "KNJja2SoNwry",
        "colab_type": "code",
        "colab": {
          "base_uri": "https://localhost:8080/",
          "height": 244
        },
        "outputId": "fb2146e4-2dca-4195-b725-a55f3f44a8a5"
      },
      "source": [
        "##THIS TABLE SHOWS DIFFERENT JOBS AND EDUCATION GROUPS AND THEIR STATS FOR DEPOSITS\n",
        "\n",
        "table = pd.crosstab(index=final[\"y\"], \n",
        "                             columns=[final[\"education\"],final['job']],margins=True)  \n",
        "table"
      ],
      "execution_count": null,
      "outputs": [
        {
          "output_type": "execute_result",
          "data": {
            "text/html": [
              "<div>\n",
              "<style scoped>\n",
              "    .dataframe tbody tr th:only-of-type {\n",
              "        vertical-align: middle;\n",
              "    }\n",
              "\n",
              "    .dataframe tbody tr th {\n",
              "        vertical-align: top;\n",
              "    }\n",
              "\n",
              "    .dataframe thead tr th {\n",
              "        text-align: left;\n",
              "    }\n",
              "\n",
              "    .dataframe thead tr:last-of-type th {\n",
              "        text-align: right;\n",
              "    }\n",
              "</style>\n",
              "<table border=\"1\" class=\"dataframe\">\n",
              "  <thead>\n",
              "    <tr>\n",
              "      <th>education</th>\n",
              "      <th colspan=\"12\" halign=\"left\">primary</th>\n",
              "      <th colspan=\"12\" halign=\"left\">secondary</th>\n",
              "      <th colspan=\"12\" halign=\"left\">tertiary</th>\n",
              "      <th colspan=\"12\" halign=\"left\">unknown</th>\n",
              "      <th>All</th>\n",
              "    </tr>\n",
              "    <tr>\n",
              "      <th>job</th>\n",
              "      <th>admin.</th>\n",
              "      <th>blue-collar</th>\n",
              "      <th>entrepreneur</th>\n",
              "      <th>housemaid</th>\n",
              "      <th>management</th>\n",
              "      <th>retired</th>\n",
              "      <th>self-employed</th>\n",
              "      <th>services</th>\n",
              "      <th>student</th>\n",
              "      <th>technician</th>\n",
              "      <th>unemployed</th>\n",
              "      <th>unknown</th>\n",
              "      <th>admin.</th>\n",
              "      <th>blue-collar</th>\n",
              "      <th>entrepreneur</th>\n",
              "      <th>housemaid</th>\n",
              "      <th>management</th>\n",
              "      <th>retired</th>\n",
              "      <th>self-employed</th>\n",
              "      <th>services</th>\n",
              "      <th>student</th>\n",
              "      <th>technician</th>\n",
              "      <th>unemployed</th>\n",
              "      <th>unknown</th>\n",
              "      <th>admin.</th>\n",
              "      <th>blue-collar</th>\n",
              "      <th>entrepreneur</th>\n",
              "      <th>housemaid</th>\n",
              "      <th>management</th>\n",
              "      <th>retired</th>\n",
              "      <th>self-employed</th>\n",
              "      <th>services</th>\n",
              "      <th>student</th>\n",
              "      <th>technician</th>\n",
              "      <th>unemployed</th>\n",
              "      <th>unknown</th>\n",
              "      <th>admin.</th>\n",
              "      <th>blue-collar</th>\n",
              "      <th>entrepreneur</th>\n",
              "      <th>housemaid</th>\n",
              "      <th>management</th>\n",
              "      <th>retired</th>\n",
              "      <th>self-employed</th>\n",
              "      <th>services</th>\n",
              "      <th>student</th>\n",
              "      <th>technician</th>\n",
              "      <th>unemployed</th>\n",
              "      <th>unknown</th>\n",
              "      <th></th>\n",
              "    </tr>\n",
              "    <tr>\n",
              "      <th>y</th>\n",
              "      <th></th>\n",
              "      <th></th>\n",
              "      <th></th>\n",
              "      <th></th>\n",
              "      <th></th>\n",
              "      <th></th>\n",
              "      <th></th>\n",
              "      <th></th>\n",
              "      <th></th>\n",
              "      <th></th>\n",
              "      <th></th>\n",
              "      <th></th>\n",
              "      <th></th>\n",
              "      <th></th>\n",
              "      <th></th>\n",
              "      <th></th>\n",
              "      <th></th>\n",
              "      <th></th>\n",
              "      <th></th>\n",
              "      <th></th>\n",
              "      <th></th>\n",
              "      <th></th>\n",
              "      <th></th>\n",
              "      <th></th>\n",
              "      <th></th>\n",
              "      <th></th>\n",
              "      <th></th>\n",
              "      <th></th>\n",
              "      <th></th>\n",
              "      <th></th>\n",
              "      <th></th>\n",
              "      <th></th>\n",
              "      <th></th>\n",
              "      <th></th>\n",
              "      <th></th>\n",
              "      <th></th>\n",
              "      <th></th>\n",
              "      <th></th>\n",
              "      <th></th>\n",
              "      <th></th>\n",
              "      <th></th>\n",
              "      <th></th>\n",
              "      <th></th>\n",
              "      <th></th>\n",
              "      <th></th>\n",
              "      <th></th>\n",
              "      <th></th>\n",
              "      <th></th>\n",
              "      <th></th>\n",
              "    </tr>\n",
              "  </thead>\n",
              "  <tbody>\n",
              "    <tr>\n",
              "      <th>no</th>\n",
              "      <td>30</td>\n",
              "      <td>476</td>\n",
              "      <td>29</td>\n",
              "      <td>95</td>\n",
              "      <td>44</td>\n",
              "      <td>99</td>\n",
              "      <td>23</td>\n",
              "      <td>54</td>\n",
              "      <td>5</td>\n",
              "      <td>28</td>\n",
              "      <td>22</td>\n",
              "      <td>4</td>\n",
              "      <td>582</td>\n",
              "      <td>683</td>\n",
              "      <td>89</td>\n",
              "      <td>44</td>\n",
              "      <td>141</td>\n",
              "      <td>107</td>\n",
              "      <td>93</td>\n",
              "      <td>450</td>\n",
              "      <td>38</td>\n",
              "      <td>691</td>\n",
              "      <td>102</td>\n",
              "      <td>6</td>\n",
              "      <td>69</td>\n",
              "      <td>24</td>\n",
              "      <td>80</td>\n",
              "      <td>21</td>\n",
              "      <td>1044</td>\n",
              "      <td>39</td>\n",
              "      <td>96</td>\n",
              "      <td>28</td>\n",
              "      <td>24</td>\n",
              "      <td>235</td>\n",
              "      <td>28</td>\n",
              "      <td>5</td>\n",
              "      <td>22</td>\n",
              "      <td>53</td>\n",
              "      <td>7</td>\n",
              "      <td>5</td>\n",
              "      <td>36</td>\n",
              "      <td>17</td>\n",
              "      <td>6</td>\n",
              "      <td>22</td>\n",
              "      <td>24</td>\n",
              "      <td>29</td>\n",
              "      <td>3</td>\n",
              "      <td>21</td>\n",
              "      <td>5873</td>\n",
              "    </tr>\n",
              "    <tr>\n",
              "      <th>yes</th>\n",
              "      <td>12</td>\n",
              "      <td>218</td>\n",
              "      <td>12</td>\n",
              "      <td>49</td>\n",
              "      <td>22</td>\n",
              "      <td>178</td>\n",
              "      <td>5</td>\n",
              "      <td>29</td>\n",
              "      <td>16</td>\n",
              "      <td>13</td>\n",
              "      <td>34</td>\n",
              "      <td>3</td>\n",
              "      <td>502</td>\n",
              "      <td>433</td>\n",
              "      <td>52</td>\n",
              "      <td>34</td>\n",
              "      <td>97</td>\n",
              "      <td>207</td>\n",
              "      <td>43</td>\n",
              "      <td>296</td>\n",
              "      <td>151</td>\n",
              "      <td>518</td>\n",
              "      <td>108</td>\n",
              "      <td>9</td>\n",
              "      <td>99</td>\n",
              "      <td>24</td>\n",
              "      <td>52</td>\n",
              "      <td>22</td>\n",
              "      <td>1134</td>\n",
              "      <td>101</td>\n",
              "      <td>134</td>\n",
              "      <td>25</td>\n",
              "      <td>59</td>\n",
              "      <td>286</td>\n",
              "      <td>56</td>\n",
              "      <td>4</td>\n",
              "      <td>18</td>\n",
              "      <td>33</td>\n",
              "      <td>7</td>\n",
              "      <td>4</td>\n",
              "      <td>48</td>\n",
              "      <td>30</td>\n",
              "      <td>5</td>\n",
              "      <td>19</td>\n",
              "      <td>43</td>\n",
              "      <td>23</td>\n",
              "      <td>4</td>\n",
              "      <td>18</td>\n",
              "      <td>5289</td>\n",
              "    </tr>\n",
              "    <tr>\n",
              "      <th>All</th>\n",
              "      <td>42</td>\n",
              "      <td>694</td>\n",
              "      <td>41</td>\n",
              "      <td>144</td>\n",
              "      <td>66</td>\n",
              "      <td>277</td>\n",
              "      <td>28</td>\n",
              "      <td>83</td>\n",
              "      <td>21</td>\n",
              "      <td>41</td>\n",
              "      <td>56</td>\n",
              "      <td>7</td>\n",
              "      <td>1084</td>\n",
              "      <td>1116</td>\n",
              "      <td>141</td>\n",
              "      <td>78</td>\n",
              "      <td>238</td>\n",
              "      <td>314</td>\n",
              "      <td>136</td>\n",
              "      <td>746</td>\n",
              "      <td>189</td>\n",
              "      <td>1209</td>\n",
              "      <td>210</td>\n",
              "      <td>15</td>\n",
              "      <td>168</td>\n",
              "      <td>48</td>\n",
              "      <td>132</td>\n",
              "      <td>43</td>\n",
              "      <td>2178</td>\n",
              "      <td>140</td>\n",
              "      <td>230</td>\n",
              "      <td>53</td>\n",
              "      <td>83</td>\n",
              "      <td>521</td>\n",
              "      <td>84</td>\n",
              "      <td>9</td>\n",
              "      <td>40</td>\n",
              "      <td>86</td>\n",
              "      <td>14</td>\n",
              "      <td>9</td>\n",
              "      <td>84</td>\n",
              "      <td>47</td>\n",
              "      <td>11</td>\n",
              "      <td>41</td>\n",
              "      <td>67</td>\n",
              "      <td>52</td>\n",
              "      <td>7</td>\n",
              "      <td>39</td>\n",
              "      <td>11162</td>\n",
              "    </tr>\n",
              "  </tbody>\n",
              "</table>\n",
              "</div>"
            ],
            "text/plain": [
              "education primary                           ...    unknown            All\n",
              "job        admin. blue-collar entrepreneur  ... unemployed unknown       \n",
              "y                                           ...                          \n",
              "no             30         476           29  ...          3      21   5873\n",
              "yes            12         218           12  ...          4      18   5289\n",
              "All            42         694           41  ...          7      39  11162\n",
              "\n",
              "[3 rows x 49 columns]"
            ]
          },
          "metadata": {
            "tags": []
          },
          "execution_count": 24
        }
      ]
    },
    {
      "cell_type": "code",
      "metadata": {
        "id": "Ulu9xaPnOCfr",
        "colab_type": "code",
        "colab": {}
      },
      "source": [
        ""
      ],
      "execution_count": null,
      "outputs": []
    },
    {
      "cell_type": "code",
      "metadata": {
        "id": "d2s421jYOQol",
        "colab_type": "code",
        "colab": {}
      },
      "source": [
        "## MOVING ON TO THE COLUMNS OF HOUSING ,DEFAULT AND LOAN i.e Credit Profile \n",
        "\n",
        "##AN OBVIOUS COLCLUSION WOULD BE THAT SOMEONE WHO's A CONSTANT DEFAULTER AND HAS LOANS WOULD LIKE TO MAINTAIN LIQUIDITY \n",
        "#AND KEEP OUT OF HUGE TERM DEPOSITS UNLESS THE INTEREST RATE BEING OFFERED IS REALLY GOOOD."
      ],
      "execution_count": null,
      "outputs": []
    },
    {
      "cell_type": "code",
      "metadata": {
        "id": "zn7vjqHiORI0",
        "colab_type": "code",
        "colab": {
          "base_uri": "https://localhost:8080/",
          "height": 524
        },
        "outputId": "8ddea4ba-64ec-4440-a04e-b759dfa984fc"
      },
      "source": [
        "fig, (ax1, ax2, ax3) = plt.subplots(nrows = 1, ncols = 3, figsize = (20,8))\n",
        "sns.countplot(x = 'default', data = final, ax = ax1, order = ['no', 'unknown', 'yes'])\n",
        "ax1.set_title('Default', fontsize=15)\n",
        "ax1.set_xlabel('')\n",
        "ax1.set_ylabel('Count', fontsize=15)\n",
        "ax1.tick_params(labelsize=15)\n",
        "\n",
        "# Housing, has housing loan ?\n",
        "sns.countplot(x = 'housing', data = final, ax = ax2, order = ['no', 'unknown', 'yes'])\n",
        "ax2.set_title('Housing', fontsize=15)\n",
        "ax2.set_xlabel('')\n",
        "ax2.set_ylabel('Count', fontsize=15)\n",
        "ax2.tick_params(labelsize=15)\n",
        "\n",
        "# Loan, has personal loan ?\n",
        "sns.countplot(x = 'loan', data = final, ax = ax3, order = ['no', 'unknown', 'yes'])\n",
        "ax3.set_title('Loan', fontsize=15)\n",
        "ax3.set_xlabel('')\n",
        "ax3.set_ylabel('Count', fontsize=15)\n",
        "ax3.tick_params(labelsize=15)\n",
        "\n",
        "plt.subplots_adjust(wspace=0.25)\n",
        "\n",
        "print(\"PEOPLE WITH STRONG CREDIT PROFILE , NO DEFAULT AND LESS LOANS ARE THE POSSIBLE CUSTOMERS\")"
      ],
      "execution_count": null,
      "outputs": [
        {
          "output_type": "stream",
          "text": [
            "PEOPLE WITH STRONG CREDIT PROFILE , NO DEFAULT AND LESS LOANS ARE THE POSSIBLE CUSTOMERS\n"
          ],
          "name": "stdout"
        },
        {
          "output_type": "display_data",
          "data": {
            "image/png": "[encoded data removed]",
            "text/plain": [
              "<Figure size 1440x576 with 3 Axes>"
            ]
          },
          "metadata": {
            "tags": [],
            "needs_background": "light"
          }
        }
      ]
    },
    {
      "cell_type": "code",
      "metadata": {
        "id": "7CS-D9p9OXQt",
        "colab_type": "code",
        "colab": {
          "base_uri": "https://localhost:8080/",
          "height": 293
        },
        "outputId": "2dbbaa2d-6ef7-4728-9a1f-4e777c07d6b3"
      },
      "source": [
        "finalframe.loc[(finalframe['housing']>='yes') ]\n",
        "\n",
        "print(\"NO OF CUSTOMERS WITH HOUSING LOAN  ----> 1935 PEOPLE \\n\") #3354\n",
        "\n",
        "finalframe.loc[(finalframe['housing']=='yes')&(finalframe['loan']=='yes') ]\n",
        "print(\"NO OF CUSTOMERS WITH PERSONAL LOAN ---> 484\\n\")\n",
        "\n",
        "print(\"NO OF CUSTOMERS WITH HOUSING LOAN AND PERSONAL LOAN ---> 265\\n\")\n",
        "\n",
        "\n",
        "\n",
        "print('% of CUSTOMERS WITH HOUSING LOAN : ',((1935/5289)*100),'\\n')\n",
        "print('% of CUSTOMERS WITH PERSONAL LOAN : ',((484/5289)*100),'\\n')\n",
        "print('% of CUSTOMERS WITH HOUSING LOAN AND PERSONAL LOAN : ',((265/5289)*100),'\\n')\n",
        "\n",
        "print('''THUS NO STRONG TREND CAN BE DEFINED WITH INFO RELATED TO LOANS \n",
        "\n",
        "AN OBVIOUS CONCLUSION WILL BE THAT A PERSON WITH MULTIPLE LOANS WONT BE ABLE TO KEEP CASH ASIDE AS HE NEEDS TO PAY HIS DUES''')"
      ],
      "execution_count": null,
      "outputs": [
        {
          "output_type": "stream",
          "text": [
            "NO OF CUSTOMERS WITH HOUSING LOAN  ----> 1935 PEOPLE \n",
            "\n",
            "NO OF CUSTOMERS WITH PERSONAL LOAN ---> 484\n",
            "\n",
            "NO OF CUSTOMERS WITH HOUSING LOAN AND PERSONAL LOAN ---> 265\n",
            "\n",
            "% of CUSTOMERS WITH HOUSING LOAN :  36.58536585365854 \n",
            "\n",
            "% of CUSTOMERS WITH PERSONAL LOAN :  9.151068254868596 \n",
            "\n",
            "% of CUSTOMERS WITH HOUSING LOAN AND PERSONAL LOAN :  5.010398941198714 \n",
            "\n",
            "THUS NO STRONG TREND CAN BE DEFINED WITH INFO RELATED TO LOANS \n",
            "\n",
            "AN OBVIOUS CONCLUSION WILL BE THAT A PERSON WITH MULTIPLE LOANS WONT BE ABLE TO KEEP CASH ASIDE AS HE NEEDS TO PAY HIS DUES\n"
          ],
          "name": "stdout"
        }
      ]
    },
    {
      "cell_type": "code",
      "metadata": {
        "id": "LvfpaAPZPOEa",
        "colab_type": "code",
        "colab": {
          "base_uri": "https://localhost:8080/",
          "height": 458
        },
        "outputId": "1e0e9409-60c7-4429-dd03-a96c2e4d5360"
      },
      "source": [
        "##FOR THE CONTACT COLUMN\n",
        "plt.figure()\n",
        "\n",
        "ig, ax = plt.subplots()\n",
        "fig.set_size_inches(60, 200)\n",
        "sns.countplot(x = 'contact', data = final)\n",
        "ax.set_xlabel('contact', fontsize=11)\n",
        "ax.set_ylabel('Count', fontsize=11)\n",
        "ax.set_title('contact Count Distribution', fontsize=11)\n",
        "ax.tick_params(labelsize=11)\n",
        "sns.despine()\n",
        "\n",
        "#tempframe.loc[(tempframe['contact']=='cellular') ]\n",
        " #783 15044 26144 3853\n",
        "\n",
        "print('% of SUCCESSFUL TELEPHONIC ATTEMPTS : ',((390/774)*100),'\\n')\n",
        "print('% of SUCCESSFUL CELLULAR ATTEMPTS : ',((4369/8042)*100),'\\n')\n",
        "print('% of SUCCESSFUL UNKNOWN ATTEMPTS : ',((530/2346)*100),'\\n')\n",
        "print('''WE CAN SAY THAT CELLULAR ATTEMPT HAS BEEN A BIT BETTER BUT ITS TOO 1-DIMENSIONAL TO CONCLUDE ANYTHING ,\n",
        "WHILE THE NUMBER OF CELLULAR ATTEMPTS ARE HUGE , CONVERSION RATE ISNT DEPENDENT ON THAT''')\n",
        "\n"
      ],
      "execution_count": null,
      "outputs": [
        {
          "output_type": "stream",
          "text": [
            "% of SUCCESSFUL TELEPHONIC ATTEMPTS :  50.3875968992248 \n",
            "\n",
            "% of SUCCESSFUL CELLULAR ATTEMPTS :  54.327281770703806 \n",
            "\n",
            "% of SUCCESSFUL UNKNOWN ATTEMPTS :  22.59164535379369 \n",
            "\n",
            "WE CAN SAY THAT CELLULAR ATTEMPT HAS BEEN A BIT BETTER BUT ITS TOO 1-DIMENSIONAL TO CONCLUDE ANYTHING ,\n",
            "WHILE THE NUMBER OF CELLULAR ATTEMPTS ARE HUGE , CONVERSION RATE ISNT DEPENDENT ON THAT\n"
          ],
          "name": "stdout"
        },
        {
          "output_type": "display_data",
          "data": {
            "text/plain": [
              "<Figure size 432x288 with 0 Axes>"
            ]
          },
          "metadata": {
            "tags": []
          }
        },
        {
          "output_type": "display_data",
          "data": {
            "image/png": "[encoded data removed]",
            "text/plain": [
              "<Figure size 432x288 with 1 Axes>"
            ]
          },
          "metadata": {
            "tags": [],
            "needs_background": "light"
          }
        }
      ]
    },
    {
      "cell_type": "code",
      "metadata": {
        "id": "Z5CDosVWPyZF",
        "colab_type": "code",
        "colab": {
          "base_uri": "https://localhost:8080/",
          "height": 437
        },
        "outputId": "06bdfabd-6b41-4302-ca04-e091b867e00b"
      },
      "source": [
        "##FOR THE MONTH COLUMN\n",
        "\n",
        "final['month'].unique()\n",
        "\n",
        "final['month'].describe()\n",
        "\n",
        "plt.figure()\n",
        "sns.countplot(x = 'month', data = final)\n",
        "ax1.set_title('Default', fontsize=15)\n",
        "ax1.set_xlabel('')\n",
        "ax1.set_ylabel('Count', fontsize=15)\n",
        "ax1.tick_params(labelsize=15)\n",
        "\n",
        "table = pd.crosstab(index=final[\"y\"], \n",
        "                             columns=[final['month']],margins=True)  \n",
        "(table)"
      ],
      "execution_count": null,
      "outputs": [
        {
          "output_type": "execute_result",
          "data": {
            "text/html": [
              "<div>\n",
              "<style scoped>\n",
              "    .dataframe tbody tr th:only-of-type {\n",
              "        vertical-align: middle;\n",
              "    }\n",
              "\n",
              "    .dataframe tbody tr th {\n",
              "        vertical-align: top;\n",
              "    }\n",
              "\n",
              "    .dataframe thead th {\n",
              "        text-align: right;\n",
              "    }\n",
              "</style>\n",
              "<table border=\"1\" class=\"dataframe\">\n",
              "  <thead>\n",
              "    <tr style=\"text-align: right;\">\n",
              "      <th>month</th>\n",
              "      <th>apr</th>\n",
              "      <th>aug</th>\n",
              "      <th>dec</th>\n",
              "      <th>feb</th>\n",
              "      <th>jan</th>\n",
              "      <th>jul</th>\n",
              "      <th>jun</th>\n",
              "      <th>mar</th>\n",
              "      <th>may</th>\n",
              "      <th>nov</th>\n",
              "      <th>oct</th>\n",
              "      <th>sep</th>\n",
              "      <th>All</th>\n",
              "    </tr>\n",
              "    <tr>\n",
              "      <th>y</th>\n",
              "      <th></th>\n",
              "      <th></th>\n",
              "      <th></th>\n",
              "      <th></th>\n",
              "      <th></th>\n",
              "      <th></th>\n",
              "      <th></th>\n",
              "      <th></th>\n",
              "      <th></th>\n",
              "      <th></th>\n",
              "      <th></th>\n",
              "      <th></th>\n",
              "      <th></th>\n",
              "    </tr>\n",
              "  </thead>\n",
              "  <tbody>\n",
              "    <tr>\n",
              "      <th>no</th>\n",
              "      <td>346</td>\n",
              "      <td>831</td>\n",
              "      <td>10</td>\n",
              "      <td>335</td>\n",
              "      <td>202</td>\n",
              "      <td>887</td>\n",
              "      <td>676</td>\n",
              "      <td>28</td>\n",
              "      <td>1899</td>\n",
              "      <td>540</td>\n",
              "      <td>69</td>\n",
              "      <td>50</td>\n",
              "      <td>5873</td>\n",
              "    </tr>\n",
              "    <tr>\n",
              "      <th>yes</th>\n",
              "      <td>577</td>\n",
              "      <td>688</td>\n",
              "      <td>100</td>\n",
              "      <td>441</td>\n",
              "      <td>142</td>\n",
              "      <td>627</td>\n",
              "      <td>546</td>\n",
              "      <td>248</td>\n",
              "      <td>925</td>\n",
              "      <td>403</td>\n",
              "      <td>323</td>\n",
              "      <td>269</td>\n",
              "      <td>5289</td>\n",
              "    </tr>\n",
              "    <tr>\n",
              "      <th>All</th>\n",
              "      <td>923</td>\n",
              "      <td>1519</td>\n",
              "      <td>110</td>\n",
              "      <td>776</td>\n",
              "      <td>344</td>\n",
              "      <td>1514</td>\n",
              "      <td>1222</td>\n",
              "      <td>276</td>\n",
              "      <td>2824</td>\n",
              "      <td>943</td>\n",
              "      <td>392</td>\n",
              "      <td>319</td>\n",
              "      <td>11162</td>\n",
              "    </tr>\n",
              "  </tbody>\n",
              "</table>\n",
              "</div>"
            ],
            "text/plain": [
              "month  apr   aug  dec  feb  jan   jul   jun  mar   may  nov  oct  sep    All\n",
              "y                                                                           \n",
              "no     346   831   10  335  202   887   676   28  1899  540   69   50   5873\n",
              "yes    577   688  100  441  142   627   546  248   925  403  323  269   5289\n",
              "All    923  1519  110  776  344  1514  1222  276  2824  943  392  319  11162"
            ]
          },
          "metadata": {
            "tags": []
          },
          "execution_count": 28
        },
        {
          "output_type": "display_data",
          "data": {
            "image/png": "[encoded data removed]",
            "text/plain": [
              "<Figure size 432x288 with 1 Axes>"
            ]
          },
          "metadata": {
            "tags": [],
            "needs_background": "light"
          }
        }
      ]
    },
    {
      "cell_type": "code",
      "metadata": {
        "id": "R_3SSj6dQEDf",
        "colab_type": "code",
        "colab": {}
      },
      "source": [
        "##FOR THE CAMPAIGN COLUMN "
      ],
      "execution_count": null,
      "outputs": []
    },
    {
      "cell_type": "code",
      "metadata": {
        "id": "FZiXATWEQEq_",
        "colab_type": "code",
        "colab": {
          "base_uri": "https://localhost:8080/",
          "height": 297
        },
        "outputId": "e3b28300-4150-4078-8115-7af041c2928a"
      },
      "source": [
        "plt.figure()\n",
        "\n",
        "finalob['y']=finalob['y'].astype('float')\n",
        "plt.rcParams['figure.figsize'] = (9, 6)\n",
        "plt.scatter(final['camp'],final['y'])\n",
        "plt.xlabel('no of contacts for this campaign')\n",
        "plt.ylabel('yes=1/ no=0')\n",
        "\n",
        "#sns.boxplot(x=doc['camp'],y=doc['y'])\n",
        "#x1 = doc['camp']\n",
        "#x2 = doc['camp']\n",
        "##y1 = doc['y']\n",
        "#y2 = doc['y']\n",
        "\n",
        "#fig, axes = plt.subplots(nrows=1, ncols=2, figsize=(8, 6),squeeze=False)\n",
        "#axes[0].scatter(x1, y1)\n",
        "#axes[1].scatter(x2, y2)\n",
        "#fig.tight_layout()\n",
        "\n"
      ],
      "execution_count": null,
      "outputs": [
        {
          "output_type": "execute_result",
          "data": {
            "text/plain": [
              "Text(0, 0.5, 'yes=1/ no=0')"
            ]
          },
          "metadata": {
            "tags": []
          },
          "execution_count": 29
        },
        {
          "output_type": "display_data",
          "data": {
            "image/png": "[encoded data removed]",
            "text/plain": [
              "<Figure size 432x288 with 1 Axes>"
            ]
          },
          "metadata": {
            "tags": [],
            "needs_background": "light"
          }
        }
      ]
    },
    {
      "cell_type": "code",
      "metadata": {
        "id": "iRisrQE2awAj",
        "colab_type": "code",
        "colab": {
          "base_uri": "https://localhost:8080/",
          "height": 406
        },
        "outputId": "c8a07548-4fed-4608-b85f-5fef4a6ad802"
      },
      "source": [
        "#IF WE LOOK FOR OUTLIERS IN THE CAMP COLUMN\n",
        "plt.figure()\n",
        "\n",
        "sns.boxplot(x=final['camp'],y=final['y'])\n",
        "\n",
        "print(\"THE OUTLIERS WHICH WE ARE GETTING HERE INCLUDE A LOT OF OBSERVATIONS AND SHOW POTENTIAL CUSTOMERS , THUS EXCLUDING THEM DOESNT LOOK APPROPIRATE\")"
      ],
      "execution_count": null,
      "outputs": [
        {
          "output_type": "stream",
          "text": [
            "THE OUTLIERS WHICH WE ARE GETTING HERE INCLUDE A LOT OF OBSERVATIONS AND SHOW POTENTIAL CUSTOMERS , THUS EXCLUDING THEM DOESNT LOOK APPROPIRATE\n"
          ],
          "name": "stdout"
        },
        {
          "output_type": "display_data",
          "data": {
            "image/png": "[encoded data removed]",
            "text/plain": [
              "<Figure size 648x432 with 1 Axes>"
            ]
          },
          "metadata": {
            "tags": [],
            "needs_background": "light"
          }
        }
      ]
    },
    {
      "cell_type": "code",
      "metadata": {
        "id": "IpZrS1c8ayAy",
        "colab_type": "code",
        "colab": {
          "base_uri": "https://localhost:8080/",
          "height": 355
        },
        "outputId": "d7f715dd-8be2-41a6-82e6-59f70ce5b5cc"
      },
      "source": [
        "## WE SET THE PDAYS =0 WHERE THE PERSON HASNT BEEN PREVIOUSLY CONTACTED\n",
        "\n",
        "#doc.loc[doc['pdays']==999,'pdays']=0\n",
        "#doc.head(3)\n",
        "\n",
        "final.loc[final['pdays']==-1,'pdays']=0\n",
        "finalob.loc[finalob['pdays']==-1,'pdays']=0\n",
        "\n",
        "\n",
        "plt.figure(figsize=(10,5))\n",
        "plt.scatter(final.pdays,final.y)\n",
        "plt.xlabel(\"p-days\", fontsize=13)\n",
        "plt.ylabel(\"yes no\", fontsize=13)\n",
        "\n",
        "#WE'LL TRY TO GET THE RELATIONSHIP BETWEEN THESE FEATURES AND THE TARGET BY OTHER METHODS AS NO CONCRETE ANALYSIS CAN BE FOUND"
      ],
      "execution_count": null,
      "outputs": [
        {
          "output_type": "execute_result",
          "data": {
            "text/plain": [
              "Text(0, 0.5, 'yes no')"
            ]
          },
          "metadata": {
            "tags": []
          },
          "execution_count": 31
        },
        {
          "output_type": "display_data",
          "data": {
            "image/png": "[encoded data removed]",
            "text/plain": [
              "<Figure size 720x360 with 1 Axes>"
            ]
          },
          "metadata": {
            "tags": [],
            "needs_background": "light"
          }
        }
      ]
    },
    {
      "cell_type": "code",
      "metadata": {
        "id": "q1Xlt02ba5PD",
        "colab_type": "code",
        "colab": {
          "base_uri": "https://localhost:8080/",
          "height": 697
        },
        "outputId": "a655d660-4611-4601-9270-f44bf9c2c99d"
      },
      "source": [
        "#PREVIOUS COLUMN \n",
        "\n",
        "\n",
        "#plt.figure(figsize=(8,5))\n",
        "##ig, ax = plt.subplots()\n",
        "#fig.set_size_inches(60, 200)\n",
        "#sns.countplot(x = 'previous', data = doc)\n",
        "#ax.set_xlabel('previous', fontsize=11)\n",
        "#ax.set_ylabel('Count', fontsize=11)\n",
        "#ax.set_title('previous Count Distribution', fontsize=11)\n",
        "#ax.tick_params(labelsize=11)\n",
        "#sns.despine()\n",
        "\n",
        "#print(\"ITS EVIDENT THAT MOSTLY NEW PEOPLE ARE TARGETED \")\n",
        "\n",
        "print(final['y'].groupby(final['previous']).describe())\n",
        "\n",
        "print(\"THE MAX NUMBER OF ATTEMPTS HAVE BEEN FOR NEW CUSTOMERS\")\n"
      ],
      "execution_count": null,
      "outputs": [
        {
          "output_type": "stream",
          "text": [
            "         count unique  top  freq\n",
            "previous                        \n",
            "0         8324      2   no  4940\n",
            "1          887      2  yes   583\n",
            "2          693      2  yes   456\n",
            "3          435      2  yes   294\n",
            "4          244      2  yes   171\n",
            "5          165      2  yes   121\n",
            "6          117      2  yes    83\n",
            "7           77      2  yes    54\n",
            "8           60      2  yes    39\n",
            "9           34      2  yes    24\n",
            "10          30      2  yes    26\n",
            "11          23      2  yes    15\n",
            "12          16      2  yes    10\n",
            "13          11      2  yes     9\n",
            "14           6      2  yes     5\n",
            "15           5      2   no     4\n",
            "16           2      1   no     2\n",
            "17          11      2   no     8\n",
            "18           1      1   no     1\n",
            "19           4      2  yes     2\n",
            "20           2      2  yes     1\n",
            "21           1      1  yes     1\n",
            "22           1      1  yes     1\n",
            "23           2      2  yes     1\n",
            "26           1      1  yes     1\n",
            "27           2      1   no     2\n",
            "28           1      1   no     1\n",
            "29           1      1  yes     1\n",
            "30           1      1  yes     1\n",
            "37           1      1   no     1\n",
            "40           1      1   no     1\n",
            "41           1      1   no     1\n",
            "55           1      1  yes     1\n",
            "58           1      1  yes     1\n",
            "THE MAX NUMBER OF ATTEMPTS HAVE BEEN FOR NEW CUSTOMERS\n"
          ],
          "name": "stdout"
        }
      ]
    },
    {
      "cell_type": "code",
      "metadata": {
        "id": "7aO2maYgbBJs",
        "colab_type": "code",
        "colab": {}
      },
      "source": [
        ""
      ],
      "execution_count": null,
      "outputs": []
    },
    {
      "cell_type": "code",
      "metadata": {
        "id": "AH7C6qlhbBFu",
        "colab_type": "code",
        "colab": {
          "base_uri": "https://localhost:8080/",
          "height": 572
        },
        "outputId": "7393310a-66a9-4945-d15b-5d0de41b67c3"
      },
      "source": [
        "##P OUTCOME \n",
        "#print(doc['poutcome'].unique())\n",
        "\n",
        "#print(final.loc[(doc['poutcome']=='success') & (doc['y']=='yes')  ]) #978 #93\n",
        "\n",
        "#print(final.loc[(doc['poutcome']=='nonexistent') & (doc['y']=='yes')  ]) #3386 #4940\n",
        "\n",
        "#print(final.loc[(doc['poutcome']=='failure') & (doc['y']=='yes')  ]) #618 #610\n",
        "\n",
        "\n",
        "print(\"EVEN AFTER A SUCCESSFUL CAMPAIGN , CHANCE OF LOSING OF A POTENTIAL CUSTOMER =\",((93/(93+978))*100),'%\\n')\n",
        "\n",
        "print(\"CHANCE OF DEPOSIT EVEN AFTER A FAILURE IN CAMPAIGN =\",(618/(610+618)*100),'%\\n')\n",
        "\n",
        "print(\"SUCCESS WHEN OUTCOME ISNT KNOWN =\",(3386/(3386+4940)*100),'%\\n')\n",
        "\n",
        "print(\"SUCCESS WHEN OUTCOME --> OTHER =\",(307/(537)*100),'%\\n')\n",
        "\n",
        "plt.figure()\n",
        "sns.scatterplot(x =final['poutcome'], y=final['duration'])\n",
        "ax1.set_xlabel('contact', fontsize=11)\n",
        "ax1.set_ylabel('Count', fontsize=11)\n",
        "ax1.set_title('contact Count Distribution', fontsize=11)\n",
        "ax1.tick_params(labelsize=11)\n",
        "sns.despine()\n",
        "\n",
        "\n",
        "\n",
        "print('''THERE IS A 50-50  POSSIBILITY THAT THE POUTCOME DOESNT DETERMINE WHETHER SOMEONE WILL DEPOSIT OR NOT,\n",
        "      AFTER A POSITIVE OUTCOME POUTCOME , CHANCE OF LOSING THE CUSTOMER IS VERY LESS''')"
      ],
      "execution_count": null,
      "outputs": [
        {
          "output_type": "stream",
          "text": [
            "EVEN AFTER A SUCCESSFUL CAMPAIGN , CHANCE OF LOSING OF A POTENTIAL CUSTOMER = 8.683473389355742 %\n",
            "\n",
            "CHANCE OF DEPOSIT EVEN AFTER A FAILURE IN CAMPAIGN = 50.3257328990228 %\n",
            "\n",
            "SUCCESS WHEN OUTCOME ISNT KNOWN = 40.66778765313476 %\n",
            "\n",
            "SUCCESS WHEN OUTCOME --> OTHER = 57.16945996275605 %\n",
            "\n",
            "THERE IS A 50-50  POSSIBILITY THAT THE POUTCOME DOESNT DETERMINE WHETHER SOMEONE WILL DEPOSIT OR NOT,\n",
            "      AFTER A POSITIVE OUTCOME POUTCOME , CHANCE OF LOSING THE CUSTOMER IS VERY LESS\n"
          ],
          "name": "stdout"
        },
        {
          "output_type": "display_data",
          "data": {
            "image/png": "[encoded data removed]",
            "text/plain": [
              "<Figure size 648x432 with 1 Axes>"
            ]
          },
          "metadata": {
            "tags": [],
            "needs_background": "light"
          }
        }
      ]
    },
    {
      "cell_type": "code",
      "metadata": {
        "id": "FmmUnUwAbBDK",
        "colab_type": "code",
        "colab": {
          "base_uri": "https://localhost:8080/",
          "height": 406
        },
        "outputId": "c005bcb3-b498-4ad7-e3d7-eab42ef196f2"
      },
      "source": [
        "## FOR THE BALANCE COLUMN\n",
        "\n",
        "#bal=pd.qcut(final['balance'],3,labels=['low','medium','high'])\n",
        "\n",
        "\n",
        "\n",
        "#print(final['balance'].describe())\n",
        "\n",
        "plt.figure()\n",
        "sns.barplot(finalob.balance,final['y'])\n",
        "\n",
        "\n",
        "print(\"PEOPLE WITH MORE BALANCE ARE MORE LIKELY TO OPEN A DEPOSIT WITH THE BANK\")"
      ],
      "execution_count": null,
      "outputs": [
        {
          "output_type": "stream",
          "text": [
            "PEOPLE WITH MORE BALANCE ARE MORE LIKELY TO OPEN A DEPOSIT WITH THE BANK\n"
          ],
          "name": "stdout"
        },
        {
          "output_type": "display_data",
          "data": {
            "image/png": "[encoded data removed]",
            "text/plain": [
              "<Figure size 648x432 with 1 Axes>"
            ]
          },
          "metadata": {
            "tags": [],
            "needs_background": "light"
          }
        }
      ]
    },
    {
      "cell_type": "code",
      "metadata": {
        "id": "wnhwTHp_bBAd",
        "colab_type": "code",
        "colab": {}
      },
      "source": [
        "\n",
        "##NOW WE'LL BE MOVING FOR THE TRAINING OF MODELS AND ALSO CREATING AN IMPUTED DATASET FOR OTHER CLASSIFICATION"
      ],
      "execution_count": null,
      "outputs": []
    },
    {
      "cell_type": "code",
      "metadata": {
        "id": "XqFEYhYab_Bx",
        "colab_type": "code",
        "colab": {
          "base_uri": "https://localhost:8080/",
          "height": 35
        },
        "outputId": "6cd38aa8-7e82-4f2c-8b70-9f72d5ee7784"
      },
      "source": [
        "##CREATING A IMPUTED DATASET OF THE ORIGNAL ONE\n",
        "\n",
        "finalimp=pd.read_csv('live.csv')\n",
        "\n",
        "finalimp.loc[finalimp['pdays']==-1,'pdays']=0 ##SETTING PDAYS =0 WHEREVER THEY ARE -1\n",
        "\n",
        "finalimp.loc[finalimp['job']=='unknown','job']='management' ## REPLACING unknowns WITH THE MODE , MANAGEMENT\n",
        "\n",
        "finalimp.loc[finalimp['education']=='unknown','education']='secondary' ##SAME WITH EDUCATION\n",
        "\n",
        "\n",
        "\n",
        "for col in finalimp.columns:\n",
        "    if finalimp[col].dtype==object:\n",
        "           finalimp[col]=finalimp[col].astype('category')\n",
        "           finalimp[col]=finalimp[col].cat.codes\n",
        "\n",
        "\n",
        "finalimp = finalimp.rename({'deposit': 'y'}, axis=1)\n",
        "finalimp = finalimp.rename({'campaign': 'camp'}, axis=1)\n",
        "\n",
        "print(\"THE IMPUTED DATASET IS REFERRED AS 'finalimp'\")"
      ],
      "execution_count": null,
      "outputs": [
        {
          "output_type": "stream",
          "text": [
            "THE IMPUTED DATASET IS REFERRED AS 'finalimp'\n"
          ],
          "name": "stdout"
        }
      ]
    },
    {
      "cell_type": "code",
      "metadata": {
        "id": "L3I5ev4nb--x",
        "colab_type": "code",
        "colab": {}
      },
      "source": [
        "\n"
      ],
      "execution_count": null,
      "outputs": []
    },
    {
      "cell_type": "code",
      "metadata": {
        "id": "kbBYUln7c_HX",
        "colab_type": "code",
        "colab": {}
      },
      "source": [
        "##FIRST TRAINING AN XGBC CLASSIFIER ON THE ORIGNAL AND IMPUTED DATSET"
      ],
      "execution_count": null,
      "outputs": []
    },
    {
      "cell_type": "code",
      "metadata": {
        "id": "0h-5Je2-eLBt",
        "colab_type": "code",
        "colab": {
          "base_uri": "https://localhost:8080/",
          "height": 35
        },
        "outputId": "9f531248-4ec2-4cb8-fe1a-abfeda283028"
      },
      "source": [
        "#XGB CLASSIFIER\n",
        "\n",
        "\n",
        "features=['age','job','marital','education','default','balance','housing','loan','contact','duration','day','month','camp','pdays','previous','poutcome']\n",
        "\n",
        "\n",
        "x=finalob[features]\n",
        "y=finalob['y']\n",
        "\n",
        "###HERE THE LG SUFFIX STANDS FOR LGBM CLASSIFIER FEATURES OUT OF THE WHOLE , STILL THE ACCURACY REDUCES AND IT ISNT OF USE\n",
        "featlg=['age', 'job', 'balance', 'day', 'month', 'pdays']\n",
        "\n",
        "xlg=finalob[featlg]\n",
        "ylg=finalob['y']\n",
        "\n",
        "\n",
        "x_train,x_test,y_train,y_test=train_test_split(x,y,test_size=0.30,random_state=4)\n",
        "\n",
        "#pipe=make_pipeline(preprocessing.MinMaxScaler(),XGBClassifier(n_estimators=103))\n",
        "\n",
        "#params = {\"xgbclassifier__max_depth\": [3,7],\n",
        "            #\"xgbclassifier__min_samples_split\": [3, 7],\n",
        "              #\"xgbclassifier__min_samples_leaf\": [ 3, 7],\n",
        "              # \"bootstrap\": [True, False],\n",
        "              #}\n",
        "\n",
        "#clf=GridSearchCV(pipe, param_grid=params,cv=15)\n",
        "\n",
        "#clf.fit(x_train,y_train)\n",
        "\n",
        "#y_pred=clf.predict(x_test)\n",
        "\n",
        "#model.score(x_test,y_test)\n",
        "\n",
        "\n",
        "\n",
        "modelxg = XGBClassifier(max_depth=3,n_estimators=103)\n",
        "modelxg.fit(x_train, y_train)\n",
        "#make predictions for test data\n",
        "y_pred = modelxg.predict(x_test)\n",
        "predictions = [round(value) for value in y_pred]\n",
        "# evaluate predictions\n",
        "accuracy = accuracy_score(y_test, predictions)\n",
        "print(\"Accuracy: %.2f%%\" % (accuracy * 100.0))\n",
        "\n",
        "\n",
        "from sklearn.metrics import classification_report\n",
        "# Model Prediction \n",
        "predictions = modelxg.predict(x_test)"
      ],
      "execution_count": null,
      "outputs": [
        {
          "output_type": "stream",
          "text": [
            "Accuracy: 83.79%\n"
          ],
          "name": "stdout"
        }
      ]
    },
    {
      "cell_type": "code",
      "metadata": {
        "id": "p7FNLWuPeUu2",
        "colab_type": "code",
        "colab": {
          "base_uri": "https://localhost:8080/",
          "height": 35
        },
        "outputId": "e6f628e6-675b-409a-fd8d-4b7dfa9c7533"
      },
      "source": [
        "\n",
        "features=['age','job','marital','education','default','balance','housing','loan','contact','duration','day','month','camp','pdays','previous','poutcome']\n",
        "\n",
        "for col in test.columns:\n",
        "    if test[col].dtype==object:\n",
        "           test[col]=test[col].astype('category')\n",
        "           test[col]=test[col].cat.codes\n",
        "\n",
        "test = test.rename({'campaign': 'camp'}, axis=1)\n",
        "\n",
        "#test = test.rename({'deposit': 'y'}, axis=1)\n",
        "\n",
        "test.loc[test['pdays']==-1,'pdays']=0\n",
        "\n",
        "xin=test[features]\n",
        "yin=test['y']\n",
        "\n",
        "\n",
        "\n",
        "\n",
        "y_pred = modelxg.predict(xin)\n",
        "predictions = [round(value) for value in y_pred]\n",
        "# evaluate predictions\n",
        "accuracy = accuracy_score(yin, predictions)\n",
        "print(\"Accuracy: %.2f%%\" % (accuracy * 100.0))\n",
        "\n"
      ],
      "execution_count": null,
      "outputs": [
        {
          "output_type": "stream",
          "text": [
            "Accuracy: 83.23%\n"
          ],
          "name": "stdout"
        }
      ]
    },
    {
      "cell_type": "code",
      "metadata": {
        "id": "IALe_1SEg09P",
        "colab_type": "code",
        "colab": {}
      },
      "source": [
        "##NOTE ::: THE ACCURACY FOR THE IMPUTED DATASET DOESNT PRODUCE ANY HUGE VARIATION SO HAS BEEN LEFT OUT ::::\n",
        "\n",
        "\n",
        "\n"
      ],
      "execution_count": null,
      "outputs": []
    },
    {
      "cell_type": "code",
      "metadata": {
        "id": "BDo3LRhTg07W",
        "colab_type": "code",
        "colab": {}
      },
      "source": [
        ""
      ],
      "execution_count": null,
      "outputs": []
    },
    {
      "cell_type": "code",
      "metadata": {
        "id": "URT2S1Dqg04t",
        "colab_type": "code",
        "colab": {}
      },
      "source": [
        "##NOW WE TRY THE RANDOM FOREST CLASSIFIER ##"
      ],
      "execution_count": null,
      "outputs": []
    },
    {
      "cell_type": "code",
      "metadata": {
        "id": "njONu3pRhijA",
        "colab_type": "code",
        "colab": {
          "base_uri": "https://localhost:8080/",
          "height": 72
        },
        "outputId": "9efddabf-7d8d-463a-d8d8-2dad260ff77b"
      },
      "source": [
        "features=['age','job','marital','education','default','balance','housing','loan','contact','day','month','camp','pdays','previous','poutcome']\n",
        "\n",
        "x=finalob[features]\n",
        "y=finalob['y']\n",
        "\n",
        "from sklearn.feature_selection import SelectFromModel\n",
        "from sklearn.ensemble import RandomForestClassifier\n",
        "\n",
        "embeded_rf_selector = SelectFromModel(RandomForestClassifier(n_estimators=100), max_features=15)\n",
        "embeded_rf_selector.fit(x, y)\n",
        "\n",
        "embeded_rf_support = embeded_rf_selector.get_support()\n",
        "embeded_rf_feature = x.loc[:,embeded_rf_support].columns.tolist()\n",
        "print(str((embeded_rf_feature)), 'selected features')\n",
        "\n",
        "print('''BEFORE USING THE CLASSIFIER WE TRIED TO FETCH THE FEATURES WHICH THE RandomForestClassifier EXTRACTED FOR CLASSIFICATION,\n",
        "      BUT IT DOESNT INCREASE ACCURACY OF THE MODEL , MAINLY ALL FEATURES HAVE BEEN NECESSARY ''')"
      ],
      "execution_count": null,
      "outputs": [
        {
          "output_type": "stream",
          "text": [
            "['age', 'job', 'balance', 'day', 'month', 'camp'] selected features\n",
            "BEFORE USING THE CLASSIFIER WE TRIED TO FETCH THE FEATURES WHICH THE RandomForestClassifier EXTRACTED FOR CLASSIFICATION,\n",
            "      BUT IT DOESNT INCREASE ACCURACY OF THE MODEL , MAINLY ALL FEATURES HAVE BEEN NECESSARY \n"
          ],
          "name": "stdout"
        }
      ]
    },
    {
      "cell_type": "code",
      "metadata": {
        "id": "bJhNaDhMi3qv",
        "colab_type": "code",
        "colab": {
          "base_uri": "https://localhost:8080/",
          "height": 90
        },
        "outputId": "09c9ba7f-6f6a-4c74-93a1-9f662290a5d8"
      },
      "source": [
        "##Main for Classification of the outcome using random forest classifier\n",
        "\n",
        "features=['age','job','marital','education','default','balance','housing','loan','contact','duration','day','month','camp','pdays','previous','poutcome']\n",
        "\n",
        "x=finalob[features]\n",
        "y=finalob['y']\n",
        "\n",
        "###HERE ITS FOR RF CLASSIFIER SUGGESTED FEATURES\n",
        "featsrf=['age', 'job', 'balance', 'day', 'month', 'camp']\n",
        "xrf=finalob[featsrf]\n",
        "yrf=finalob['y']\n",
        "\n",
        "\n",
        "\n",
        "x_train,x_test,y_train,y_test=train_test_split(x,y,test_size=0.30,random_state=2)\n",
        "\n",
        "\n",
        "\n",
        "rf = RandomForestClassifier(bootstrap= True, n_estimators=87,max_depth=11,random_state=2) \n",
        "np.set_printoptions(precision=3)\n",
        "\n",
        "\n",
        "#n_estimators=87,max_depth=11,random_state=2\n",
        "\n",
        "\n",
        "modelrf = rf.fit(x_train, y_train)\n",
        "raw_feature_importance = modelrf.feature_importances_.tolist()\n",
        "feature_importance = [round(val * 100.0, 2) for val in raw_feature_importance]\n",
        "print(zip(features, feature_importance))\n",
        "\n",
        "print('Training accuracy :' ,modelrf.score(x_test,y_test),'\\n')\n",
        "\n",
        "test = test.rename({'campaign': 'camp'}, axis=1)\n",
        "\n",
        "\n",
        "\n",
        "for col in test.columns:\n",
        "    if test[col].dtype==object:\n",
        "           test[col]=test[col].astype('category')\n",
        "           test[col]=test[col].cat.codes\n",
        "\n",
        "X=test[features]\n",
        "Y=test['y']\n",
        "\n",
        "\n",
        "print('Testing accuracy :',modelrf.score(X,Y))\n"
      ],
      "execution_count": null,
      "outputs": [
        {
          "output_type": "stream",
          "text": [
            "<zip object at 0x7f5c3488adc8>\n",
            "Training accuracy : 0.8432367871006271 \n",
            "\n",
            "Testing accuracy : 0.8345498783454988\n"
          ],
          "name": "stdout"
        }
      ]
    },
    {
      "cell_type": "code",
      "metadata": {
        "id": "0-HJL4rx5Fvp",
        "colab_type": "code",
        "colab": {}
      },
      "source": [
        ""
      ],
      "execution_count": null,
      "outputs": []
    },
    {
      "cell_type": "code",
      "metadata": {
        "id": "NFCUzuij5FtV",
        "colab_type": "code",
        "colab": {}
      },
      "source": [
        ""
      ],
      "execution_count": null,
      "outputs": []
    }
  ]
}